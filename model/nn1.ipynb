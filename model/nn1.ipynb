{
 "cells": [
  {
   "cell_type": "code",
   "execution_count": 92,
   "metadata": {},
   "outputs": [],
   "source": [
    "import pandas as pd\n",
    "import numpy as np\n",
    "import networkx as nx\n",
    "import matplotlib.pyplot as plt\n",
    "import tensorflow as tf\n",
    "from tensorflow import keras\n",
    "from tensorflow.keras import layers"
   ]
  },
  {
   "cell_type": "code",
   "execution_count": 196,
   "metadata": {},
   "outputs": [
    {
     "name": "stdout",
     "output_type": "stream",
     "text": [
      "  target source\n",
      "1     35    887\n",
      "2     35   1033\n",
      "3     35   1688\n",
      "4     35   1956\n",
      "5     35   8865\n",
      "(5429, 2)\n",
      "                         subject  word1  word2  word3  word4  word5  word6  \\\n",
      "paper_id                                                                     \n",
      "35            Genetic_Algorithms    NaN    NaN    NaN    NaN    NaN    NaN   \n",
      "40            Genetic_Algorithms    NaN    NaN    NaN    NaN    NaN    NaN   \n",
      "114       Reinforcement_Learning    NaN    NaN    NaN    NaN    NaN    NaN   \n",
      "117       Reinforcement_Learning    NaN    NaN    NaN    NaN    NaN    NaN   \n",
      "128       Reinforcement_Learning    NaN    NaN    NaN    NaN    NaN    NaN   \n",
      "\n",
      "          word7  word8  word9  ...  word1424  word1425  word1426  word1427  \\\n",
      "paper_id                       ...                                           \n",
      "35          NaN    NaN    NaN  ...       NaN       NaN       NaN       NaN   \n",
      "40          NaN    NaN    NaN  ...       NaN       NaN       NaN       NaN   \n",
      "114         NaN    NaN    NaN  ...       NaN       NaN       NaN       NaN   \n",
      "117         NaN    NaN    NaN  ...       NaN       NaN       NaN       NaN   \n",
      "128         NaN    NaN    NaN  ...       NaN       NaN       NaN       NaN   \n",
      "\n",
      "          word1428  word1429  word1430  word1431  word1432  word1433  \n",
      "paper_id                                                              \n",
      "35             NaN       NaN       NaN       NaN       NaN       NaN  \n",
      "40             NaN       NaN       NaN       NaN       NaN       NaN  \n",
      "114            NaN       NaN       NaN       NaN       NaN       NaN  \n",
      "117            NaN       NaN       NaN       NaN       NaN       NaN  \n",
      "128            NaN       NaN       NaN       NaN       NaN       NaN  \n",
      "\n",
      "[5 rows x 1434 columns]\n",
      "(2708, 1434)\n"
     ]
    },
    {
     "name": "stderr",
     "output_type": "stream",
     "text": [
      "c:\\Users\\reece\\miniconda3\\envs\\tensorflow_cpu\\lib\\site-packages\\IPython\\core\\interactiveshell.py:3457: DtypeWarning: Columns (0) have mixed types.Specify dtype option on import or set low_memory=False.\n",
      "  exec(code_obj, self.user_global_ns, self.user_ns)\n"
     ]
    }
   ],
   "source": [
    "# cs_cites = pd.read_csv(\n",
    "#     '../data/citeseer.cites.csv',\n",
    "#     sep=\"\\t\",\n",
    "#     header=None,\n",
    "#     names=[\"target\", \"source\"],\n",
    "#     ) # no column unique\n",
    "# print(cs_cites.head())\n",
    "# cs_content = pd.read_csv(\n",
    "#     '../data/citeseer.content.csv',\n",
    "#     sep=\"\\t\",\n",
    "#     header=None,\n",
    "#     names=[\"target\", \"source\"],\n",
    "#     ) # no unique column\n",
    "# print(cs_content.head())\n",
    "# cs_paper = pd.read_csv(\n",
    "#     '../data/citeseer.paper.csv',\n",
    "#     sep=\"\\t\",\n",
    "#     header=None,\n",
    "#     names=[\"target\", \"source\"],\n",
    "#     ) # unique paper id\n",
    "# print(cs_paper.head())\n",
    "c_cites = pd.read_csv(\n",
    "    '../data/cora.cites.csv',\n",
    "    # sep=\"\\t\",\n",
    "    # header=None,\n",
    "    names=[\"target\", \"source\"],\n",
    "    ) # no column unique\n",
    "c_cites = c_cites.drop(0)\n",
    "print(c_cites.head())\n",
    "print(c_cites.shape)\n",
    "# column_names = [\"paper_id\"] + [f\"term_{idx}\" for idx in range(1433)] # + [\"subject\"]\n",
    "# c_content = pd.read_csv(\n",
    "#     '../data/cora.content.csv',\n",
    "#     # sep=\"\\t\",\n",
    "#     # header=None,\n",
    "#     names=column_names,\n",
    "#     ) # no column unique\n",
    "# print(c_content.head())\n",
    "column_names = [\"paper_id\"] + [\"subject\"] + [f\"word{idx}\" for idx in range(1,1434)]\n",
    "c_paper = pd.read_csv(\n",
    "    '../data/cora.papers.csv',\n",
    "    # sep=\"\\t\",\n",
    "    # header=None,\n",
    "    names=column_names,\n",
    "    ) # unique paper id\n",
    "c_paper = c_paper.drop(0)\n",
    "c_paper['paper_id'] = c_paper['paper_id'].apply(pd.to_numeric)\n",
    "c_paper = c_paper.set_index('paper_id')\n",
    "print(c_paper.head())\n",
    "print(c_paper.shape)\n",
    "c_content = pd.read_csv(\n",
    "    '../data/cora.content.csv',\n",
    "    # sep=\"\\t\",\n",
    "    # header=None\n",
    "    ) # no column unique\n",
    "print(c_content.head())\n",
    "print(c_content.shape)"
   ]
  },
  {
   "cell_type": "code",
   "execution_count": 203,
   "metadata": {},
   "outputs": [],
   "source": [
    "for i in range(1, 1434):\n",
    "    name = \"word\"+str(i)\n",
    "    c_paper[name] = 0\n",
    "for index, row in c_content.iterrows():\n",
    "    c_paper.at[int(row['paper_id']), str(row['word_cited_id'])] = 1\n",
    "print(c_paper.shape)\n",
    "print(c_paper.sample(5))"
   ]
  }
 ],
 "metadata": {
  "kernelspec": {
   "display_name": "Python 3",
   "language": "python",
   "name": "python3"
  },
  "language_info": {
   "codemirror_mode": {
    "name": "ipython",
    "version": 3
   },
   "file_extension": ".py",
   "mimetype": "text/x-python",
   "name": "python",
   "nbconvert_exporter": "python",
   "pygments_lexer": "ipython3",
   "version": "3.7.16"
  },
  "orig_nbformat": 4
 },
 "nbformat": 4,
 "nbformat_minor": 2
}
