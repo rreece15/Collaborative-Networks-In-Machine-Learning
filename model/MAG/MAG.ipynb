{
 "cells": [
  {
   "cell_type": "markdown",
   "metadata": {},
   "source": [
    "## Import Statements"
   ]
  },
  {
   "cell_type": "code",
   "execution_count": 2,
   "metadata": {},
   "outputs": [],
   "source": [
    "import pandas as pd\n",
    "import numpy as np\n",
    "import ijson\n",
    "import time\n",
    "import csv\n",
    "import numpy as np\n",
    "from decimal import Decimal"
   ]
  },
  {
   "cell_type": "markdown",
   "metadata": {},
   "source": [
    "Converts json dataset to csv"
   ]
  },
  {
   "cell_type": "code",
   "execution_count": 4,
   "metadata": {},
   "outputs": [
    {
     "name": "stdout",
     "output_type": "stream",
     "text": [
      "4800:0.91s 9600:1.83s 14400:2.75s 19200:3.94s 24000:4.97s 28800:5.83s 33600:6.69s 38400:7.52s 43200:8.42s 48000:9.22s 52800:10.11s 57600:10.81s 62400:11.61s 67200:12.42s 72000:13.19s 76800:14.0s 81600:14.69s 86400:15.48s 91200:16.14s 96000:16.95s 100800:17.67s 105600:18.48s 110400:19.19s 115200:20.0s 120000:20.7s 124800:21.45s 129600:22.14s 134400:22.92s 139200:23.83s 144000:24.56s 148800:25.38s 153600:26.14s 158400:26.95s 163200:27.66s 168000:28.36s 172800:29.05s 177600:29.83s 182400:30.5s 187200:31.23s 192000:31.88s 196800:32.58s 201600:33.25s 206400:34.06s 211200:34.75s 216000:35.39s 220800:36.09s 225600:36.75s 230400:37.52s 235200:38.22s 240000:39.06s 244800:39.8s 249600:40.66s 254400:41.45s 259200:42.33s 264000:43.44s 268800:44.5s 273600:45.62s 278400:46.66s 283200:47.84s 288000:49.14s 292800:50.31s 297600:51.25s 302400:52.31s 307200:53.28s 312000:54.38s 316800:55.45s 321600:56.34s 326400:57.53s 331200:58.67s 336000:59.77s 340800:60.73s 345600:61.88s 350400:62.94s 355200:64.09s 360000:65.17s 364800:66.19s 369600:67.36s 374400:68.5s 379200:69.53s 384000:70.48s 388800:71.67s 393600:72.55s 398400:73.69s 403200:74.7s 408000:75.88s 412800:76.92s 417600:78.06s 422400:79.11s 427200:80.23s 432000:81.41s 436800:82.33s 441600:83.42s 446400:84.48s 451200:85.39s 456000:86.56s 460800:87.56s 465600:88.58s 470400:89.64s 475200:90.64s 480000:91.53s 484800:92.53s 489600:93.58s 494400:94.64s 499200:95.69s 504000:96.72s 508800:97.67s 513600:98.66s 518400:99.69s 523200:100.8s 528000:101.84s 532800:102.86s 537600:104.0s 542400:105.12s 547200:106.08s 552000:107.06s 556800:108.11s 561600:109.14s 566400:110.19s 571200:111.17s 576000:112.17s 580800:113.22s 585600:114.23s 590400:115.38s 595200:116.19s 600000:117.34s 604800:118.23s 609600:119.27s 614400:120.2s 619200:121.2s 624000:122.31s 628800:123.42s 633600:124.48s 638400:125.48s 643200:126.59s 648000:127.7s 652800:128.77s 657600:129.91s 662400:131.2s 667200:132.34s 672000:133.56s 676800:134.75s 681600:135.86s 686400:136.97s 691200:138.14s 696000:139.27s 700800:140.23s 705600:141.36s 710400:142.42s 715200:143.61s 720000:144.64s 724800:145.92s 729600:146.95s 734400:147.98s 739200:149.12s 744000:150.42s 748800:151.59s 753600:152.8s 758400:153.94s 763200:155.06s 768000:156.19s 772800:157.33s 777600:158.34s 782400:159.36s 787200:160.41s 792000:161.55s 796800:162.7s 801600:163.66s 806400:164.78s 811200:165.88s 816000:166.91s 820800:168.11s 825600:169.31s 830400:170.5s 835200:171.69s 840000:172.89s 844800:173.95s 849600:175.17s 854400:176.11s 859200:177.19s 864000:178.38s 868800:179.44s 873600:180.5s 878400:181.53s 883200:182.7s 888000:183.91s 892800:185.05s 897600:186.12s 902400:187.28s 907200:188.45s 912000:189.58s 916800:190.62s 921600:191.84s 926400:193.02s 931200:194.09s 936000:195.31s 940800:196.36s 945600:197.53s 950400:198.53s 955200:199.45s 960000:200.67s 964800:202.0s 969600:203.16s 974400:204.55s 979200:205.8s 984000:206.95s 988800:208.11s 993600:209.41s 998400:210.5s 1003200:211.77s 1008000:212.89s 1012800:214.11s 1017600:215.09s 1022400:216.31s 1027200:217.33s 1032000:218.44s 1036800:219.64s 1041600:220.88s 1046400:222.14s 1051200:223.36s 1056000:224.66s 1060800:225.94s 1065600:226.97s 1070400:228.16s 1075200:229.33s 1080000:230.62s 1084800:231.8s 1089600:233.09s 1094400:234.47s 1099200:235.58s 1104000:236.91s 1108800:238.09s 1113600:239.34s 1118400:240.38s 1123200:241.69s 1128000:242.86s 1132800:243.94s 1137600:245.14s 1142400:246.39s 1147200:247.45s 1152000:248.72s 1156800:249.89s 1161600:250.97s 1166400:252.08s 1171200:253.17s 1176000:254.23s 1180800:255.34s 1185600:256.56s 1190400:257.72s 1195200:258.91s 1200000:260.0s 1204800:261.27s 1209600:262.44s 1214400:263.61s 1219200:264.73s 1224000:265.92s 1228800:267.08s 1233600:268.39s 1238400:269.39s 1243200:270.61s 1248000:271.78s 1252800:272.91s 1257600:274.06s 1262400:275.33s 1267200:276.48s 1272000:277.73s 1276800:278.83s 1281600:280.17s 1286400:281.33s 1291200:282.5s 1296000:283.61s 1300800:284.78s 1305600:285.95s 1310400:287.44s 1315200:288.52s 1320000:289.8s 1324800:290.97s 1329600:292.22s 1334400:293.36s 1339200:294.59s 1344000:295.83s 1348800:296.91s 1353600:298.02s 1358400:299.12s 1363200:300.34s 1368000:301.58s 1372800:302.77s 1377600:303.8s 1382400:304.86s 1387200:306.22s 1392000:307.45s 1396800:308.98s 1401600:310.27s 1406400:311.47s 1411200:312.66s 1416000:313.91s 1420800:315.19s 1425600:316.33s 1430400:317.47s 1435200:318.56s 1440000:319.66s 1444800:320.84s 1449600:322.03s 1454400:323.25s 1459200:324.39s 1464000:325.56s 1468800:326.67s 1473600:327.98s 1478400:329.02s 1483200:330.17s 1488000:331.42s 1492800:332.53s 1497600:333.69s 1502400:334.89s 1507200:336.16s 1512000:337.25s 1516800:338.34s 1521600:339.61s 1526400:340.88s 1531200:342.05s 1536000:343.27s 1540800:344.48s 1545600:345.69s 1550400:346.86s 1555200:348.0s 1560000:349.09s 1564800:350.36s 1569600:351.56s 1574400:352.64s 1579200:353.75s 1584000:354.95s 1588800:356.02s 1593600:357.09s 1598400:358.22s 1603200:359.31s 1608000:360.42s 1612800:361.67s 1617600:362.77s 1622400:363.98s 1627200:365.11s 1632000:366.36s 1636800:367.48s 1641600:368.56s 1646400:369.72s 1651200:370.83s 1656000:371.98s 1660800:373.2s 1665600:374.33s 1670400:375.44s 1675200:376.56s 1680000:377.84s 1684800:378.97s 1689600:380.08s 1694400:381.19s 1699200:382.38s 1704000:383.47s 1708800:384.59s 1713600:385.73s 1718400:386.84s 1723200:387.97s 1728000:389.14s 1732800:390.36s 1737600:391.61s 1742400:392.88s 1747200:394.09s 1752000:395.34s 1756800:396.36s 1761600:397.52s 1766400:398.7s 1771200:399.86s 1776000:401.11s 1780800:402.25s 1785600:403.48s 1790400:404.58s 1795200:405.88s 1800000:406.98s 1804800:408.12s 1809600:409.38s 1814400:410.45s 1819200:411.59s 1824000:412.77s 1828800:413.92s 1833600:415.02s 1838400:416.09s 1843200:417.16s 1848000:418.41s 1852800:419.62s 1857600:420.67s 1862400:421.84s 1867200:423.06s 1872000:424.23s 1876800:425.31s 1881600:426.55s 1886400:427.8s 1891200:428.78s 1896000:430.06s 1900800:431.2s 1905600:432.48s 1910400:433.69s 1915200:434.94s 1920000:436.19s 1924800:437.3s 1929600:438.55s 1934400:439.75s 1939200:441.05s 1944000:442.11s 1948800:443.17s 1953600:444.44s 1958400:445.55s 1963200:446.58s 1968000:447.98s 1972800:449.38s 1977600:450.61s 1982400:451.77s 1987200:452.89s 1992000:454.09s 1996800:455.3s 2001600:456.53s 2006400:457.73s 2011200:458.94s 2016000:459.98s 2020800:461.25s 2025600:462.33s 2030400:463.47s 2035200:464.55s 2040000:465.81s 2044800:467.03s 2049600:468.19s 2054400:469.3s 2059200:470.48s 2064000:471.64s 2068800:472.84s 2073600:473.84s 2078400:475.06s 2083200:476.36s 2088000:477.55s 2092800:478.62s 2097600:479.88s 2102400:481.03s 2107200:482.19s 2112000:483.31s 2116800:484.53s 2121600:486.02s 2126400:487.02s 2131200:488.14s 2136000:489.33s 2140800:490.41s 2145600:491.61s 2150400:492.75s 2155200:493.94s 2160000:495.05s 2164800:496.16s 2169600:497.17s 2174400:498.5s 2179200:499.94s 2184000:501.08s 2188800:502.3s 2193600:503.52s 2198400:504.52s 2203200:505.62s 2208000:506.66s 2212800:507.8s 2217600:509.02s 2222400:510.27s 2227200:511.25s 2232000:512.23s 2236800:513.41s 2241600:514.67s 2246400:515.84s 2251200:517.0s 2256000:518.33s 2260800:519.47s 2265600:520.73s 2270400:521.89s 2275200:523.25s 2280000:524.25s 2284800:525.55s 2289600:526.59s 2294400:527.92s 2299200:529.25s 2304000:530.44s 2308800:531.36s 2313600:532.31s 2318400:533.17s 2323200:534.53s 2328000:535.52s 2332800:536.64s 2337600:537.62s 2342400:538.84s 2347200:540.16s 2352000:541.22s 2356800:542.34s 2361600:543.73s 2366400:545.02s 2371200:546.09s 2376000:547.42s 2380800:548.62s 2385600:549.67s 2390400:551.09s 2395200:552.38s 2400000:553.69s 2404800:554.77s 2409600:555.92s 2414400:557.28s 2419200:558.48s 2424000:559.8s 2428800:561.0s 2433600:562.31s 2438400:563.55s 2443200:564.77s 2448000:566.12s 2452800:567.17s 2457600:568.23s 2462400:569.31s 2467200:570.48s 2472000:571.7s 2476800:572.89s 2481600:574.05s 2486400:575.3s 2491200:576.52s 2496000:577.83s 2500800:579.02s 2505600:580.34s 2510400:581.45s 2515200:582.77s 2520000:583.98s 2524800:585.33s 2529600:586.56s 2534400:587.83s 2539200:589.14s 2544000:590.48s 2548800:591.72s 2553600:592.91s 2558400:594.05s 2563200:595.19s 2568000:596.42s 2572800:597.75s 2577600:598.95s 2582400:600.2s 2587200:601.39s 2592000:602.56s 2596800:603.7s 2601600:605.06s 2606400:606.25s 2611200:607.61s 2616000:608.78s 2620800:609.98s 2625600:611.25s 2630400:612.28s 2635200:613.28s 2640000:614.7s 2644800:615.78s 2649600:616.98s 2654400:618.27s 2659200:619.59s 2664000:620.78s 2668800:622.22s 2673600:623.38s 2678400:624.61s 2683200:625.72s 2688000:626.94s 2692800:628.14s 2697600:629.56s 2702400:630.83s 2707200:632.11s 2712000:633.33s 2716800:634.58s 2721600:635.73s 2726400:637.05s 2731200:638.17s 2736000:639.53s 2740800:640.8s 2745600:642.08s 2750400:643.02s 2755200:643.72s 2760000:644.69s 2764800:645.61s 2769600:646.2s 2774400:647.12s 2779200:648.12s 2784000:649.17s 2788800:649.73s 2793600:650.33s 2798400:650.92s 2803200:651.75s 2808000:652.94s 2812800:654.14s 2817600:655.11s 2822400:656.22s 2827200:657.23s 2832000:658.48s 2836800:659.52s 2841600:660.69s 2846400:661.78s 2851200:663.17s 2856000:664.23s 2860800:665.38s 2865600:666.53s 2870400:667.88s 2875200:669.05s 2880000:670.34s 2884800:671.45s 2889600:672.8s 2894400:674.02s 2899200:675.33s 2904000:676.27s 2908800:677.2s 2913600:678.41s 2918400:679.56s 2923200:680.69s 2928000:681.91s 2932800:683.11s 2937600:684.44s 2942400:685.48s 2947200:686.78s 2952000:688.11s 2956800:689.23s 2961600:690.53s 2966400:691.78s 2971200:693.02s 2976000:694.06s 2980800:695.23s 2985600:696.47s 2990400:697.62s 2995200:698.77s 3000000:699.97s 3004800:701.2s 3009600:702.47s 3014400:703.53s 3019200:704.77s 3024000:705.67s 3028800:707.06s 3033600:708.33s 3038400:709.55s 3043200:710.88s 3048000:711.97s 3052800:713.28s 3057600:714.36s 3062400:715.47s 3067200:716.42s 3072000:717.36s 3076800:718.48s 3081600:719.86s 3086400:721.14s 3091200:722.23s 3096000:723.17s 3100800:724.27s 3105600:725.48s 3110400:726.78s 3115200:728.2s 3120000:729.55s 3124800:730.95s 3129600:732.05s 3134400:732.88s 3139200:733.67s 3144000:734.39s 3148800:735.14s 3153600:735.97s 3158400:736.8s 3163200:737.53s 3168000:738.28s 3172800:739.12s 3177600:739.94s 3182400:740.59s 3187200:741.42s 3192000:742.23s 3196800:742.97s 3201600:743.75s 3206400:744.7s 3211200:745.41s 3216000:746.16s 3220800:747.12s 3225600:748.38s 3230400:749.64s 3235200:750.88s 3240000:751.98s 3244800:753.16s 3249600:754.2s 3254400:755.34s 3259200:756.52s 3264000:757.78s 3268800:759.06s 3273600:760.22s 3278400:761.27s 3283200:762.34s 3288000:763.58s 3292800:764.67s 3297600:765.98s 3302400:767.08s 3307200:768.33s 3312000:769.41s 3316800:770.61s 3321600:771.95s 3326400:773.47s 3331200:774.75s 3336000:776.14s 3340800:777.36s 3345600:778.47s 3350400:779.66s 3355200:780.73s 3360000:782.12s 3364800:783.33s 3369600:784.56s 3374400:785.89s 3379200:787.09s 3384000:788.25s 3388800:789.34s 3393600:790.45s 3398400:791.52s 3403200:792.48s 3408000:793.3s 3412800:794.41s 3417600:795.39s 3422400:796.31s 3427200:797.53s 3432000:798.48s 3436800:799.17s 3441600:799.92s 3446400:800.64s 3451200:801.23s 3456000:801.98s 3460800:802.98s 3465600:803.89s 3470400:804.91s 3475200:805.86s 3480000:806.97s 3484800:807.94s 3489600:809.06s 3494400:810.31s 3499200:811.22s 3504000:812.08s 3508800:813.09s 3513600:814.25s 3518400:815.11s 3523200:815.91s 3528000:817.16s 3532800:818.34s 3537600:819.25s 3542400:820.11s 3547200:821.17s 3552000:822.3s 3556800:823.19s 3561600:824.22s 3566400:825.11s 3571200:825.84s 3576000:826.83s 3580800:827.86s 3585600:828.75s 3590400:829.77s 3595200:830.56s 3600000:831.52s 3604800:832.52s 3609600:833.33s 3614400:834.44s 3619200:835.41s 3624000:836.27s 3628800:837.05s 3633600:837.98s 3638400:839.03s 3643200:840.08s 3648000:840.91s 3652800:841.8s 3657600:842.66s 3662400:843.45s 3667200:844.27s 3672000:845.38s 3676800:846.56s 3681600:847.61s 3686400:848.61s 3691200:849.77s 3696000:850.78s 3700800:851.94s 3705600:852.92s 3710400:853.95s 3715200:855.14s 3720000:855.94s 3724800:857.16s 3729600:858.45s 3734400:859.88s 3739200:860.94s 3744000:862.09s 3748800:863.27s 3753600:864.33s 3758400:865.66s 3763200:866.62s 3768000:867.55s 3772800:868.8s 3777600:869.84s 3782400:870.66s 3787200:871.44s 3792000:872.17s 3796800:873.03s 3801600:874.17s 3806400:875.33s 3811200:876.31s 3816000:877.44s 3820800:878.42s 3825600:879.59s 3830400:880.55s 3835200:881.61s 3840000:882.55s 3844800:883.42s 3849600:884.56s 3854400:885.53s 3859200:886.66s 3864000:887.67s 3868800:888.61s 3873600:889.7s 3878400:890.69s 3883200:891.91s 3888000:893.0s 3892800:894.12s 3897600:895.2s 3902400:896.27s 3907200:897.22s 3912000:898.44s 3916800:899.67s 3921600:901.03s 3926400:902.48s 3931200:903.78s 3936000:904.95s 3940800:906.03s 3945600:907.11s 3950400:908.27s 3955200:909.48s 3960000:910.53s 3964800:911.81s 3969600:913.28s 3974400:914.48s 3979200:915.66s 3984000:916.75s 3988800:917.73s 3993600:918.86s 3998400:920.14s 4003200:921.36s 4008000:922.78s 4012800:923.95s 4017600:925.11s 4022400:926.27s 4027200:927.58s 4032000:928.7s 4036800:930.05s 4041600:931.11s 4046400:932.06s 4051200:933.2s 4056000:934.45s 4060800:935.53s 4065600:936.47s 4070400:937.47s 4075200:938.8s 4080000:940.08s 4084800:941.3s 4089600:942.5s 4094400:943.44s 4099200:944.55s 4104000:945.56s 4108800:946.78s 4113600:947.98s 4118400:949.02s 4123200:950.14s 4128000:951.47s 4132800:952.62s 4137600:953.8s 4142400:954.92s 4147200:956.08s 4152000:957.33s 4156800:958.58s 4161600:959.5s 4166400:960.53s 4171200:961.86s 4176000:963.11s 4180800:964.27s 4185600:965.34s 4190400:966.06s 4195200:966.84s 4200000:967.91s 4204800:969.14s 4209600:970.31s 4214400:971.33s 4219200:972.38s 4224000:973.53s 4228800:974.62s 4233600:975.64s 4238400:976.84s 4243200:977.88s 4248000:979.02s 4252800:980.06s 4257600:981.2s 4262400:982.34s 4267200:983.38s 4272000:984.58s 4276800:985.53s 4281600:986.53s 4286400:987.7s 4291200:988.98s 4296000:990.17s 4300800:991.25s 4305600:992.36s 4310400:993.48s 4315200:994.66s 4320000:995.97s 4324800:997.03s 4329600:998.39s 4334400:999.56s 4339200:1000.67s 4344000:1001.7s 4348800:1002.64s 4353600:1003.61s 4358400:1004.55s 4363200:1005.56s 4368000:1006.72s 4372800:1007.86s 4377600:1008.64s 4382400:1009.61s 4387200:1010.66s 4392000:1011.64s 4396800:1012.61s 4401600:1013.5s 4406400:1014.3s 4411200:1015.59s 4416000:1016.7s 4420800:1017.52s 4425600:1018.47s 4430400:1019.3s 4435200:1020.17s 4440000:1020.92s 4444800:1021.91s 4449600:1022.36s 4454400:1022.75s 4459200:1023.5s 4464000:1024.8s 4468800:1025.8s 4473600:1026.42s 4478400:1027.08s 4483200:1027.61s 4488000:1028.22s 4492800:1028.83s 4497600:1029.48s 4502400:1030.28s 4507200:1031.03s 4512000:1031.83s 4516800:1032.44s 4521600:1033.05s 4526400:1033.66s 4531200:1034.25s 4536000:1034.95s 4540800:1035.58s 4545600:1036.08s 4550400:1036.75s 4555200:1037.33s 4560000:1037.86s 4564800:1038.55s 4569600:1039.06s 4574400:1039.7s 4579200:1040.59s 4584000:1041.25s 4588800:1042.27s 4593600:1043.5s 4598400:1044.86s 4603200:1046.09s 4608000:1047.39s 4612800:1048.5s 4617600:1049.78s 4622400:1051.0s 4627200:1052.27s 4632000:1053.38s 4636800:1054.5s 4641600:1055.58s 4646400:1056.58s 4651200:1057.58s 4656000:1058.59s 4660800:1059.69s 4665600:1060.56s 4670400:1061.59s 4675200:1062.42s 4680000:1063.38s 4684800:1064.38s 4689600:1065.39s 4694400:1066.31s 4699200:1067.28s 4704000:1068.44s 4708800:1069.23s 4713600:1069.92s 4718400:1070.45s 4723200:1071.36s 4728000:1072.12s 4732800:1073.17s 4737600:1073.91s 4742400:1074.91s 4747200:1075.97s 4752000:1077.16s 4756800:1078.47s 4761600:1079.33s 4766400:1080.27s 4771200:1081.33s 4776000:1082.52s 4780800:1083.55s 4785600:1084.64s 4790400:1085.11s 4795200:1085.52s 4800000:1086.2s 4804800:1087.48s 4809600:1088.58s 4814400:1089.86s 4819200:1090.92s 4824000:1091.72s 4828800:1092.59s 4833600:1093.64s 4838400:1094.62s 4843200:1095.67s 4848000:1097.02s 4852800:1098.08s 4857600:1099.17s 4862400:1100.39s 4867200:1101.69s 4872000:1102.83s 4876800:1104.09s 4881600:1104.67s 4886400:1105.47s 4891200:1106.17s "
     ]
    }
   ],
   "source": [
    "# runtime ~30min\n",
    "start = time.process_time()\n",
    "\n",
    "PAPER = []\n",
    "Author = []\n",
    "count = 0\n",
    "\n",
    "with open('../data/MAG/dblp.v12.json', \"rb\") as f, open(\"../data/MAG/output.csv\", \"x\", newline=\"\") as csvfile:\n",
    "    fieldnames = ['id', 'title', 'year', 'author_name', 'author_org', 'author_id', 'n_citation', 'doc_type',\n",
    "                  'reference_count', 'references', 'venue_id', 'venue_name', 'venue_type', 'doi', 'keyword','volume','issue','publisher',\n",
    "                  'weight', 'indexed_keyword', 'inverted_index']\n",
    "    writer = csv.DictWriter(csvfile, fieldnames=fieldnames)\n",
    "    writer.writeheader()\n",
    "\n",
    "    for i, element in enumerate(ijson.items(f, \"item\")):\n",
    "        paper = {}\n",
    "        paper['id'] = element['id']\n",
    "        paper['title'] = element['title']\n",
    "\n",
    "        year = element.get('year')\n",
    "        if year:\n",
    "            paper['year'] = year\n",
    "        else:\n",
    "            paper['year'] = np.nan\n",
    "\n",
    "        author = element.get('authors')\n",
    "        if author:\n",
    "            Author = element['authors']\n",
    "            author_name = []\n",
    "            author_org = []\n",
    "            author_id = []\n",
    "\n",
    "            for i in Author:\n",
    "                if 'name' in i and 'id' in i and 'org' in i:\n",
    "                    author_name.append(str(i['name']))  # Convert to string\n",
    "                    author_id.append(str(i['id']))\n",
    "                    author_org.append(str(i['org']))\n",
    "                else:\n",
    "                    author_name.append(str(np.nan))  # Convert to string\n",
    "                    author_id.append(str(np.nan))\n",
    "                    author_org.append(str(np.nan))\n",
    "\n",
    "            paper['author_name'] = ';'.join(author_name)\n",
    "            paper['author_org'] = ';'.join(author_org)\n",
    "            paper['author_id'] = ';'.join(author_id)\n",
    "\n",
    "        n_citation = element.get('n_citation')\n",
    "        if n_citation:\n",
    "            paper['n_citation'] = n_citation\n",
    "        else:\n",
    "            paper['n_citation'] = np.nan\n",
    "\n",
    "        doc_type = element.get('doc_type')\n",
    "        if doc_type:\n",
    "            paper['doc_type'] = doc_type\n",
    "        else:\n",
    "            paper['doc_type'] = np.nan\n",
    "\n",
    "        references = element.get('references')\n",
    "        if references:\n",
    "            paper['reference_count'] = len(references)\n",
    "            paper['references'] = ';'.join(str(int(r)) for r in references)\n",
    "        else:\n",
    "            paper['references'] = np.nan\n",
    "\n",
    "        venue = element.get('venue')\n",
    "        if venue:\n",
    "            if 'id' in venue and 'raw' in venue and 'type' in venue:\n",
    "                paper['venue_id'] = str(venue['id'])\n",
    "                paper['venue_name'] = venue['raw']\n",
    "                paper['venue_type'] = venue['type']\n",
    "            else:\n",
    "                paper['venue_id'] = np.nan\n",
    "                paper['venue_name'] = np.nan\n",
    "                paper['venue_type'] = np.nan\n",
    "        else:\n",
    "            paper['venue_id'] = np.nan\n",
    "            paper['venue_name'] = np.nan\n",
    "            paper['venue_type'] = np.nan\n",
    "\n",
    "        doi = element.get('doi')\n",
    "        if doi:\n",
    "            paper['doi'] = f\"https://doi.org/{doi}\"\n",
    "        else:\n",
    "            paper['doi'] = np.nan\n",
    "\n",
    "        fos = element.get('fos')\n",
    "        if fos:\n",
    "            fosunparsed = element['fos']\n",
    "            keyword = []\n",
    "            weight = []\n",
    "\n",
    "            for i in fosunparsed:\n",
    "                if isinstance(i['w'], (int, float, Decimal)):\n",
    "                    keyword.append(str(i['name']))  # Convert to string\n",
    "                    weight.append(str(i['w']))\n",
    "                else:\n",
    "                    keyword.append(str(np.nan))  # Convert to string\n",
    "                    weight.append(str(np.nan))\n",
    "\n",
    "        else:\n",
    "            keyword = []\n",
    "            weight = []\n",
    "\n",
    "        paper['keyword'] = ';'.join(keyword)\n",
    "        paper['weight'] = ';'.join(weight)\n",
    "\n",
    "        indexed_abstract = element.get('indexed_abstract')\n",
    "        if indexed_abstract:\n",
    "            indexed_abstracts = indexed_abstract.get('InvertedIndex')\n",
    "            inverted_vector = []\n",
    "            keywords = []\n",
    "\n",
    "            for i in indexed_abstracts:\n",
    "                if i:\n",
    "                    keywords.append(str(i))  # Convert to string\n",
    "                    inverted_vector.append(str(indexed_abstracts[i]))  # Convert to string\n",
    "        else:\n",
    "            keywords = []\n",
    "            inverted_vector = []\n",
    "\n",
    "        paper['indexed_keyword'] = ';'.join(keywords)\n",
    "        paper['inverted_index'] = ';'.join(inverted_vector)\n",
    "        \n",
    "        publisher= element.get('publisher')\n",
    "        if publisher:\n",
    "            paper['publisher']=publisher\n",
    "        else:\n",
    "            paper['publisher']=np.nan\n",
    "        volume = element.get('volume')\n",
    "        if volume:\n",
    "            paper['volume']=volume\n",
    "        else:\n",
    "            paper['volume']=np.nan\n",
    "        issue = element.get('issue')\n",
    "        if issue:\n",
    "            paper['issue']=issue\n",
    "        else:\n",
    "            paper['issue']=np.nan\n",
    "        count += 1\n",
    "        writer.writerow(paper)\n",
    "\n",
    "        if count % 4800 == 0:\n",
    "            print(f\"{count}:{round((time.process_time() - start), 2)}s \", end=\"\")"
   ]
  },
  {
   "cell_type": "markdown",
   "metadata": {},
   "source": [
    "Then csv to pandas and predict links"
   ]
  },
  {
   "cell_type": "code",
   "execution_count": 51,
   "metadata": {},
   "outputs": [],
   "source": [
    "import tensorflow as tf\n",
    "import stellargraph as sg\n",
    "from stellargraph.data import EdgeSplitter\n",
    "from stellargraph.mapper import FullBatchLinkGenerator\n",
    "from stellargraph.layer import GCN, LinkEmbedding\n",
    "from stellargraph import StellarGraph\n",
    "\n",
    "from tensorflow import keras\n",
    "from sklearn import preprocessing, feature_extraction, model_selection\n",
    "\n",
    "from stellargraph import globalvar\n",
    "from stellargraph import datasets\n",
    "from IPython.display import display, HTML\n",
    "\n",
    "import math\n",
    "%matplotlib inline"
   ]
  },
  {
   "cell_type": "code",
   "execution_count": 53,
   "metadata": {},
   "outputs": [],
   "source": [
    "mag = pd.read_csv('../data/MAG/output.csv', nrows=1000000)"
   ]
  },
  {
   "cell_type": "code",
   "execution_count": 10,
   "metadata": {},
   "outputs": [
    {
     "name": "stdout",
     "output_type": "stream",
     "text": [
      "Index(['id', 'title', 'year', 'author_name', 'author_org', 'author_id',\n",
      "       'n_citation', 'doc_type', 'reference_count', 'references', 'venue_id',\n",
      "       'venue_name', 'venue_type', 'doi', 'keyword', 'volume', 'issue',\n",
      "       'publisher', 'weight', 'indexed_keyword', 'inverted_index'],\n",
      "      dtype='object')\n",
      "     id                                              title  year  \\\n",
      "0  1091  Preliminary Design of a Network Protocol Learn...  2013   \n",
      "1  1388  Further Results on Independence in Direct-Prod...  2000   \n",
      "2  1674  A methodology for the physically accurate visu...  2011   \n",
      "3  1688  Comparison of GARCH, Neural Network and Suppor...  2009   \n",
      "4  5411  COMPARING GNG3D AND QUADRIC ERROR METRICS METH...  2009   \n",
      "\n",
      "                                         author_name  \\\n",
      "0  Makoto Satoh;Ryo Muramatsu;Mizue Kayama;Kazuno...   \n",
      "1                                                NaN   \n",
      "2                                   G. Beale;G. Earl   \n",
      "3  Altaf Hossain;Faisal Zaman;M. Nasser;M. Mufakh...   \n",
      "4                                    nan;nan;nan;nan   \n",
      "\n",
      "                                          author_org  \\\n",
      "0  Shinshu University;Shinshu University;Shinshu ...   \n",
      "1                                                NaN   \n",
      "2  Archaeological Computing Research Group, Unive...   \n",
      "3  Department of Statistics , Rajshahi University...   \n",
      "4                                    nan;nan;nan;nan   \n",
      "\n",
      "                                           author_id  n_citation    doc_type  \\\n",
      "0  2312688602;2482909946;2128134587;2101782692;21...         1.0  Conference   \n",
      "1                                                NaN         1.0     Journal   \n",
      "2                              2103626414;2117665592         1.0  Conference   \n",
      "3        2300589394;2308774408;2126056503;2425818370         6.0  Conference   \n",
      "4                                    nan;nan;nan;nan         NaN  Conference   \n",
      "\n",
      "   reference_count                                         references  ...  \\\n",
      "0              2.0                              2005687710;2018037215  ...   \n",
      "1              NaN                                                NaN  ...   \n",
      "2             15.0  1535888970;1992876689;1993710814;2035653341;20...  ...   \n",
      "3              3.0                   1560724230;1986968751;2156909104  ...   \n",
      "4              NaN                                                NaN  ...   \n",
      "\n",
      "                                          venue_name venue_type  \\\n",
      "0  International Conference on Human-Computer Int...          C   \n",
      "1                                   Ars Combinatoria          J   \n",
      "2        International Conference on Virtual Reality          C   \n",
      "3       Pattern Recognition and Machine Intelligence          C   \n",
      "4  International Conference on Computer Graphics ...          C   \n",
      "\n",
      "                                            doi  \\\n",
      "0  https://doi.org/10.1007/978-3-642-39476-8_19   \n",
      "1                                           NaN   \n",
      "2   https://doi.org/10.2312/VAST/VAST11/137-144   \n",
      "3  https://doi.org/10.1007/978-3-642-11164-8_97   \n",
      "4                                           NaN   \n",
      "\n",
      "                                             keyword volume  issue  \\\n",
      "0  Telecommunications network;Computer science;Mi...    NaN    NaN   \n",
      "1  Graph;Discrete mathematics;Combinatorics;Direc...   56.0    NaN   \n",
      "2  Statue;Engineering drawing;Virtual reconstruct...    NaN    NaN   \n",
      "3  Autoregressive–moving-average model;Computer s...    NaN    NaN   \n",
      "4  Computer vision;Polygon mesh;Computer graphics...    NaN    NaN   \n",
      "\n",
      "                      publisher  \\\n",
      "0  Springer, Berlin, Heidelberg   \n",
      "1                           NaN   \n",
      "2      Eurographics Association   \n",
      "3  Springer, Berlin, Heidelberg   \n",
      "4                           NaN   \n",
      "\n",
      "                                              weight  \\\n",
      "0  0.45139;0.45245;0.5347;0.47011;0.46629;0.49737...   \n",
      "1                 0.0;0.45872;0.4515;0.59104;0.42784   \n",
      "2  0.40216;0.43427;0.0;0.42062;0.4595;0.4474;0.40496   \n",
      "3  0.49811;0.41114;0.51884;0.0;0.0;0.0;0.49542;0....   \n",
      "4        0.44692;0.53319;0.46151;0.42074;0.0;0.61991   \n",
      "\n",
      "                                     indexed_keyword  \\\n",
      "0  tool.;study;aim;purpose;scientific;for;aspects...   \n",
      "1                                                NaN   \n",
      "2  illustrating;accurate;objects;accuracy;collect...   \n",
      "3  standard;compare;superiority;indices.;applied;...   \n",
      "4                                                NaN   \n",
      "\n",
      "                                      inverted_index  \n",
      "0  [42];[4];[37];[1];[17];[11];[18];[14, 46];[27]...  \n",
      "1                                                NaN  \n",
      "2  [59];[43, 108];[112];[89];[154];[30];[33];[119...  \n",
      "3  [14, 53];[11];[44];[63];[2];[40];[17, 46];[25]...  \n",
      "4                                                NaN  \n",
      "\n",
      "[5 rows x 21 columns]\n"
     ]
    }
   ],
   "source": [
    "print(mag.columns)\n",
    "print(mag.head())"
   ]
  },
  {
   "cell_type": "markdown",
   "metadata": {},
   "source": [
    "use information to create a citation network"
   ]
  },
  {
   "cell_type": "code",
   "execution_count": 54,
   "metadata": {},
   "outputs": [
    {
     "ename": "KeyboardInterrupt",
     "evalue": "",
     "output_type": "error",
     "traceback": [
      "\u001b[1;31m---------------------------------------------------------------------------\u001b[0m",
      "\u001b[1;31mKeyboardInterrupt\u001b[0m                         Traceback (most recent call last)",
      "\u001b[1;32m~\\AppData\\Local\\Temp\\ipykernel_7896\\1477266682.py\u001b[0m in \u001b[0;36m<module>\u001b[1;34m\u001b[0m\n\u001b[0;32m      7\u001b[0m         \u001b[0mrefs\u001b[0m \u001b[1;33m=\u001b[0m \u001b[0mrow\u001b[0m\u001b[1;33m[\u001b[0m\u001b[1;34m'references'\u001b[0m\u001b[1;33m]\u001b[0m\u001b[1;33m.\u001b[0m\u001b[0msplit\u001b[0m\u001b[1;33m(\u001b[0m\u001b[1;34m';'\u001b[0m\u001b[1;33m)\u001b[0m\u001b[1;33m\u001b[0m\u001b[1;33m\u001b[0m\u001b[0m\n\u001b[0;32m      8\u001b[0m         \u001b[1;32mfor\u001b[0m \u001b[0mref\u001b[0m \u001b[1;32min\u001b[0m \u001b[0mrefs\u001b[0m\u001b[1;33m:\u001b[0m\u001b[1;33m\u001b[0m\u001b[1;33m\u001b[0m\u001b[0m\n\u001b[1;32m----> 9\u001b[1;33m             \u001b[0mcontent\u001b[0m \u001b[1;33m=\u001b[0m \u001b[0mcontent\u001b[0m\u001b[1;33m.\u001b[0m\u001b[0mappend\u001b[0m\u001b[1;33m(\u001b[0m\u001b[1;33m{\u001b[0m\u001b[1;34m'target'\u001b[0m\u001b[1;33m:\u001b[0m \u001b[0mrow\u001b[0m\u001b[1;33m[\u001b[0m\u001b[1;34m'id'\u001b[0m\u001b[1;33m]\u001b[0m\u001b[1;33m,\u001b[0m \u001b[1;34m'source'\u001b[0m\u001b[1;33m:\u001b[0m\u001b[0mref\u001b[0m\u001b[1;33m}\u001b[0m\u001b[1;33m,\u001b[0m \u001b[0mignore_index\u001b[0m\u001b[1;33m=\u001b[0m\u001b[1;32mTrue\u001b[0m\u001b[1;33m)\u001b[0m\u001b[1;33m\u001b[0m\u001b[1;33m\u001b[0m\u001b[0m\n\u001b[0m\u001b[0;32m     10\u001b[0m     \u001b[1;32melse\u001b[0m\u001b[1;33m:\u001b[0m\u001b[1;33m\u001b[0m\u001b[1;33m\u001b[0m\u001b[0m\n\u001b[0;32m     11\u001b[0m         \u001b[1;32mcontinue\u001b[0m\u001b[1;33m\u001b[0m\u001b[1;33m\u001b[0m\u001b[0m\n",
      "\u001b[1;32m~\\AppData\\Roaming\\Python\\Python37\\site-packages\\pandas\\core\\frame.py\u001b[0m in \u001b[0;36mappend\u001b[1;34m(self, other, ignore_index, verify_integrity, sort)\u001b[0m\n\u001b[0;32m   8967\u001b[0m                 \u001b[0mignore_index\u001b[0m\u001b[1;33m=\u001b[0m\u001b[0mignore_index\u001b[0m\u001b[1;33m,\u001b[0m\u001b[1;33m\u001b[0m\u001b[1;33m\u001b[0m\u001b[0m\n\u001b[0;32m   8968\u001b[0m                 \u001b[0mverify_integrity\u001b[0m\u001b[1;33m=\u001b[0m\u001b[0mverify_integrity\u001b[0m\u001b[1;33m,\u001b[0m\u001b[1;33m\u001b[0m\u001b[1;33m\u001b[0m\u001b[0m\n\u001b[1;32m-> 8969\u001b[1;33m                 \u001b[0msort\u001b[0m\u001b[1;33m=\u001b[0m\u001b[0msort\u001b[0m\u001b[1;33m,\u001b[0m\u001b[1;33m\u001b[0m\u001b[1;33m\u001b[0m\u001b[0m\n\u001b[0m\u001b[0;32m   8970\u001b[0m             )\n\u001b[0;32m   8971\u001b[0m         ).__finalize__(self, method=\"append\")\n",
      "\u001b[1;32m~\\AppData\\Roaming\\Python\\Python37\\site-packages\\pandas\\util\\_decorators.py\u001b[0m in \u001b[0;36mwrapper\u001b[1;34m(*args, **kwargs)\u001b[0m\n\u001b[0;32m    309\u001b[0m                     \u001b[0mstacklevel\u001b[0m\u001b[1;33m=\u001b[0m\u001b[0mstacklevel\u001b[0m\u001b[1;33m,\u001b[0m\u001b[1;33m\u001b[0m\u001b[1;33m\u001b[0m\u001b[0m\n\u001b[0;32m    310\u001b[0m                 )\n\u001b[1;32m--> 311\u001b[1;33m             \u001b[1;32mreturn\u001b[0m \u001b[0mfunc\u001b[0m\u001b[1;33m(\u001b[0m\u001b[1;33m*\u001b[0m\u001b[0margs\u001b[0m\u001b[1;33m,\u001b[0m \u001b[1;33m**\u001b[0m\u001b[0mkwargs\u001b[0m\u001b[1;33m)\u001b[0m\u001b[1;33m\u001b[0m\u001b[1;33m\u001b[0m\u001b[0m\n\u001b[0m\u001b[0;32m    312\u001b[0m \u001b[1;33m\u001b[0m\u001b[0m\n\u001b[0;32m    313\u001b[0m         \u001b[1;32mreturn\u001b[0m \u001b[0mwrapper\u001b[0m\u001b[1;33m\u001b[0m\u001b[1;33m\u001b[0m\u001b[0m\n",
      "\u001b[1;32m~\\AppData\\Roaming\\Python\\Python37\\site-packages\\pandas\\core\\reshape\\concat.py\u001b[0m in \u001b[0;36mconcat\u001b[1;34m(objs, axis, join, ignore_index, keys, levels, names, verify_integrity, sort, copy)\u001b[0m\n\u001b[0;32m    305\u001b[0m     )\n\u001b[0;32m    306\u001b[0m \u001b[1;33m\u001b[0m\u001b[0m\n\u001b[1;32m--> 307\u001b[1;33m     \u001b[1;32mreturn\u001b[0m \u001b[0mop\u001b[0m\u001b[1;33m.\u001b[0m\u001b[0mget_result\u001b[0m\u001b[1;33m(\u001b[0m\u001b[1;33m)\u001b[0m\u001b[1;33m\u001b[0m\u001b[1;33m\u001b[0m\u001b[0m\n\u001b[0m\u001b[0;32m    308\u001b[0m \u001b[1;33m\u001b[0m\u001b[0m\n\u001b[0;32m    309\u001b[0m \u001b[1;33m\u001b[0m\u001b[0m\n",
      "\u001b[1;32m~\\AppData\\Roaming\\Python\\Python37\\site-packages\\pandas\\core\\reshape\\concat.py\u001b[0m in \u001b[0;36mget_result\u001b[1;34m(self)\u001b[0m\n\u001b[0;32m    531\u001b[0m \u001b[1;33m\u001b[0m\u001b[0m\n\u001b[0;32m    532\u001b[0m             new_data = concatenate_managers(\n\u001b[1;32m--> 533\u001b[1;33m                 \u001b[0mmgrs_indexers\u001b[0m\u001b[1;33m,\u001b[0m \u001b[0mself\u001b[0m\u001b[1;33m.\u001b[0m\u001b[0mnew_axes\u001b[0m\u001b[1;33m,\u001b[0m \u001b[0mconcat_axis\u001b[0m\u001b[1;33m=\u001b[0m\u001b[0mself\u001b[0m\u001b[1;33m.\u001b[0m\u001b[0mbm_axis\u001b[0m\u001b[1;33m,\u001b[0m \u001b[0mcopy\u001b[0m\u001b[1;33m=\u001b[0m\u001b[0mself\u001b[0m\u001b[1;33m.\u001b[0m\u001b[0mcopy\u001b[0m\u001b[1;33m\u001b[0m\u001b[1;33m\u001b[0m\u001b[0m\n\u001b[0m\u001b[0;32m    534\u001b[0m             )\n\u001b[0;32m    535\u001b[0m             \u001b[1;32mif\u001b[0m \u001b[1;32mnot\u001b[0m \u001b[0mself\u001b[0m\u001b[1;33m.\u001b[0m\u001b[0mcopy\u001b[0m\u001b[1;33m:\u001b[0m\u001b[1;33m\u001b[0m\u001b[1;33m\u001b[0m\u001b[0m\n",
      "\u001b[1;32m~\\AppData\\Roaming\\Python\\Python37\\site-packages\\pandas\\core\\internals\\concat.py\u001b[0m in \u001b[0;36mconcatenate_managers\u001b[1;34m(mgrs_indexers, axes, concat_axis, copy)\u001b[0m\n\u001b[0;32m    214\u001b[0m                 \u001b[1;31m#  we can use np.concatenate, which is more performant\u001b[0m\u001b[1;33m\u001b[0m\u001b[1;33m\u001b[0m\u001b[1;33m\u001b[0m\u001b[0m\n\u001b[0;32m    215\u001b[0m                 \u001b[1;31m#  than concat_compat\u001b[0m\u001b[1;33m\u001b[0m\u001b[1;33m\u001b[0m\u001b[1;33m\u001b[0m\u001b[0m\n\u001b[1;32m--> 216\u001b[1;33m                 \u001b[0mvalues\u001b[0m \u001b[1;33m=\u001b[0m \u001b[0mnp\u001b[0m\u001b[1;33m.\u001b[0m\u001b[0mconcatenate\u001b[0m\u001b[1;33m(\u001b[0m\u001b[0mvals\u001b[0m\u001b[1;33m,\u001b[0m \u001b[0maxis\u001b[0m\u001b[1;33m=\u001b[0m\u001b[0mblk\u001b[0m\u001b[1;33m.\u001b[0m\u001b[0mndim\u001b[0m \u001b[1;33m-\u001b[0m \u001b[1;36m1\u001b[0m\u001b[1;33m)\u001b[0m\u001b[1;33m\u001b[0m\u001b[1;33m\u001b[0m\u001b[0m\n\u001b[0m\u001b[0;32m    217\u001b[0m             \u001b[1;32melse\u001b[0m\u001b[1;33m:\u001b[0m\u001b[1;33m\u001b[0m\u001b[1;33m\u001b[0m\u001b[0m\n\u001b[0;32m    218\u001b[0m                 \u001b[1;31m# TODO(EA2D): special-casing not needed with 2D EAs\u001b[0m\u001b[1;33m\u001b[0m\u001b[1;33m\u001b[0m\u001b[1;33m\u001b[0m\u001b[0m\n",
      "\u001b[1;32m<__array_function__ internals>\u001b[0m in \u001b[0;36mconcatenate\u001b[1;34m(*args, **kwargs)\u001b[0m\n",
      "\u001b[1;31mKeyboardInterrupt\u001b[0m: "
     ]
    }
   ],
   "source": [
    "cites = pd.DataFrame(columns=['target', 'source'])\n",
    "\n",
    "iters = 0\n",
    "for index, row in mag.iterrows():\n",
    "    # print(type(row['references']))\n",
    "    if type(row['references']) == type(\"string\"):\n",
    "        refs = row['references'].split(';')\n",
    "        for ref in refs:\n",
    "            content = content.append({'target': row['id'], 'source':ref}, ignore_index=True)\n",
    "    else:\n",
    "        continue\n",
    "    # iters = iters + 1\n",
    "    # if iters > 10:\n",
    "    #     break\n",
    "print(content.shape)\n",
    "print(content.head())\n",
    "    "
   ]
  },
  {
   "cell_type": "code",
   "execution_count": 52,
   "metadata": {},
   "outputs": [
    {
     "name": "stdout",
     "output_type": "stream",
     "text": [
      "StellarGraph: Undirected multigraph\n",
      " Nodes: 0, Edges: 0\n",
      "\n",
      " Node types:\n",
      "  default: [0]\n",
      "    Features: none\n",
      "    Edge types: none\n",
      "\n",
      " Edge types:\n"
     ]
    }
   ],
   "source": [
    "base_G = StellarGraph(edges=cites)\n",
    "print(base_G.info())"
   ]
  },
  {
   "cell_type": "code",
   "execution_count": 39,
   "metadata": {},
   "outputs": [],
   "source": [
    "mag['indexed_keyword'] = mag['indexed_keyword'].str.strip('.').str.split(';')"
   ]
  },
  {
   "cell_type": "code",
   "execution_count": 44,
   "metadata": {},
   "outputs": [
    {
     "name": "stdout",
     "output_type": "stream",
     "text": [
      "0       [tool., study, aim, purpose, scientific, for, ...\n",
      "1                                                      []\n",
      "2       [illustrating, accurate, objects, accuracy, co...\n",
      "3       [standard, compare, superiority, indices., app...\n",
      "4                                                      []\n",
      "                              ...                        \n",
      "9995                                                   []\n",
      "9996                                                   []\n",
      "9997    [software, provider,, objects, collected, chan...\n",
      "9998                                                   []\n",
      "9999    [small, very, Preliminary, dimensional, result...\n",
      "Name: indexed_keyword, Length: 10000, dtype: object\n"
     ]
    }
   ],
   "source": [
    "mag.loc[mag['indexed_keyword'].isnull(),['indexed_keyword']] = mag.loc[mag['indexed_keyword'].isnull(),'indexed_keyword'].apply(lambda x: [])\n",
    "print(mag['indexed_keyword'])"
   ]
  },
  {
   "cell_type": "code",
   "execution_count": 45,
   "metadata": {},
   "outputs": [
    {
     "name": "stderr",
     "output_type": "stream",
     "text": [
      "c:\\Users\\reece\\miniconda3\\envs\\tensorflow_cpu\\lib\\site-packages\\ipykernel_launcher.py:1: FutureWarning: In a future version of pandas all arguments of DataFrame.drop except for the argument 'labels' will be keyword-only\n",
      "  \"\"\"Entry point for launching an IPython kernel.\n"
     ]
    },
    {
     "ename": "MemoryError",
     "evalue": "Unable to allocate 115. GiB for an array with shape (30970899480,) and data type int32",
     "output_type": "error",
     "traceback": [
      "\u001b[1;31m---------------------------------------------------------------------------\u001b[0m",
      "\u001b[1;31mMemoryError\u001b[0m                               Traceback (most recent call last)",
      "\u001b[1;32m~\\AppData\\Local\\Temp\\ipykernel_7896\\3791389437.py\u001b[0m in \u001b[0;36m<module>\u001b[1;34m\u001b[0m\n\u001b[0;32m      2\u001b[0m     pd.get_dummies(\n\u001b[0;32m      3\u001b[0m         \u001b[0mpd\u001b[0m\u001b[1;33m.\u001b[0m\u001b[0mDataFrame\u001b[0m\u001b[1;33m(\u001b[0m\u001b[0mmag\u001b[0m\u001b[1;33m.\u001b[0m\u001b[0mindexed_keyword\u001b[0m\u001b[1;33m.\u001b[0m\u001b[0mtolist\u001b[0m\u001b[1;33m(\u001b[0m\u001b[1;33m)\u001b[0m\u001b[1;33m,\u001b[0m \u001b[0mmag\u001b[0m\u001b[1;33m.\u001b[0m\u001b[0mindex\u001b[0m\u001b[1;33m)\u001b[0m\u001b[1;33m.\u001b[0m\u001b[0mstack\u001b[0m\u001b[1;33m(\u001b[0m\u001b[1;33m)\u001b[0m\u001b[1;33m\u001b[0m\u001b[1;33m\u001b[0m\u001b[0m\n\u001b[1;32m----> 4\u001b[1;33m     ).astype(int).groupby(level=0).sum()\n\u001b[0m\u001b[0;32m      5\u001b[0m )\n",
      "\u001b[1;32m~\\AppData\\Roaming\\Python\\Python37\\site-packages\\pandas\\core\\generic.py\u001b[0m in \u001b[0;36mastype\u001b[1;34m(self, dtype, copy, errors)\u001b[0m\n\u001b[0;32m   5813\u001b[0m         \u001b[1;32melse\u001b[0m\u001b[1;33m:\u001b[0m\u001b[1;33m\u001b[0m\u001b[1;33m\u001b[0m\u001b[0m\n\u001b[0;32m   5814\u001b[0m             \u001b[1;31m# else, only a single dtype is given\u001b[0m\u001b[1;33m\u001b[0m\u001b[1;33m\u001b[0m\u001b[1;33m\u001b[0m\u001b[0m\n\u001b[1;32m-> 5815\u001b[1;33m             \u001b[0mnew_data\u001b[0m \u001b[1;33m=\u001b[0m \u001b[0mself\u001b[0m\u001b[1;33m.\u001b[0m\u001b[0m_mgr\u001b[0m\u001b[1;33m.\u001b[0m\u001b[0mastype\u001b[0m\u001b[1;33m(\u001b[0m\u001b[0mdtype\u001b[0m\u001b[1;33m=\u001b[0m\u001b[0mdtype\u001b[0m\u001b[1;33m,\u001b[0m \u001b[0mcopy\u001b[0m\u001b[1;33m=\u001b[0m\u001b[0mcopy\u001b[0m\u001b[1;33m,\u001b[0m \u001b[0merrors\u001b[0m\u001b[1;33m=\u001b[0m\u001b[0merrors\u001b[0m\u001b[1;33m)\u001b[0m\u001b[1;33m\u001b[0m\u001b[1;33m\u001b[0m\u001b[0m\n\u001b[0m\u001b[0;32m   5816\u001b[0m             \u001b[1;32mreturn\u001b[0m \u001b[0mself\u001b[0m\u001b[1;33m.\u001b[0m\u001b[0m_constructor\u001b[0m\u001b[1;33m(\u001b[0m\u001b[0mnew_data\u001b[0m\u001b[1;33m)\u001b[0m\u001b[1;33m.\u001b[0m\u001b[0m__finalize__\u001b[0m\u001b[1;33m(\u001b[0m\u001b[0mself\u001b[0m\u001b[1;33m,\u001b[0m \u001b[0mmethod\u001b[0m\u001b[1;33m=\u001b[0m\u001b[1;34m\"astype\"\u001b[0m\u001b[1;33m)\u001b[0m\u001b[1;33m\u001b[0m\u001b[1;33m\u001b[0m\u001b[0m\n\u001b[0;32m   5817\u001b[0m \u001b[1;33m\u001b[0m\u001b[0m\n",
      "\u001b[1;32m~\\AppData\\Roaming\\Python\\Python37\\site-packages\\pandas\\core\\internals\\managers.py\u001b[0m in \u001b[0;36mastype\u001b[1;34m(self, dtype, copy, errors)\u001b[0m\n\u001b[0;32m    416\u001b[0m \u001b[1;33m\u001b[0m\u001b[0m\n\u001b[0;32m    417\u001b[0m     \u001b[1;32mdef\u001b[0m \u001b[0mastype\u001b[0m\u001b[1;33m(\u001b[0m\u001b[0mself\u001b[0m\u001b[1;33m:\u001b[0m \u001b[0mT\u001b[0m\u001b[1;33m,\u001b[0m \u001b[0mdtype\u001b[0m\u001b[1;33m,\u001b[0m \u001b[0mcopy\u001b[0m\u001b[1;33m:\u001b[0m \u001b[0mbool\u001b[0m \u001b[1;33m=\u001b[0m \u001b[1;32mFalse\u001b[0m\u001b[1;33m,\u001b[0m \u001b[0merrors\u001b[0m\u001b[1;33m:\u001b[0m \u001b[0mstr\u001b[0m \u001b[1;33m=\u001b[0m \u001b[1;34m\"raise\"\u001b[0m\u001b[1;33m)\u001b[0m \u001b[1;33m->\u001b[0m \u001b[0mT\u001b[0m\u001b[1;33m:\u001b[0m\u001b[1;33m\u001b[0m\u001b[1;33m\u001b[0m\u001b[0m\n\u001b[1;32m--> 418\u001b[1;33m         \u001b[1;32mreturn\u001b[0m \u001b[0mself\u001b[0m\u001b[1;33m.\u001b[0m\u001b[0mapply\u001b[0m\u001b[1;33m(\u001b[0m\u001b[1;34m\"astype\"\u001b[0m\u001b[1;33m,\u001b[0m \u001b[0mdtype\u001b[0m\u001b[1;33m=\u001b[0m\u001b[0mdtype\u001b[0m\u001b[1;33m,\u001b[0m \u001b[0mcopy\u001b[0m\u001b[1;33m=\u001b[0m\u001b[0mcopy\u001b[0m\u001b[1;33m,\u001b[0m \u001b[0merrors\u001b[0m\u001b[1;33m=\u001b[0m\u001b[0merrors\u001b[0m\u001b[1;33m)\u001b[0m\u001b[1;33m\u001b[0m\u001b[1;33m\u001b[0m\u001b[0m\n\u001b[0m\u001b[0;32m    419\u001b[0m \u001b[1;33m\u001b[0m\u001b[0m\n\u001b[0;32m    420\u001b[0m     def convert(\n",
      "\u001b[1;32m~\\AppData\\Roaming\\Python\\Python37\\site-packages\\pandas\\core\\internals\\managers.py\u001b[0m in \u001b[0;36mapply\u001b[1;34m(self, f, align_keys, ignore_failures, **kwargs)\u001b[0m\n\u001b[0;32m    325\u001b[0m                     \u001b[0mapplied\u001b[0m \u001b[1;33m=\u001b[0m \u001b[0mb\u001b[0m\u001b[1;33m.\u001b[0m\u001b[0mapply\u001b[0m\u001b[1;33m(\u001b[0m\u001b[0mf\u001b[0m\u001b[1;33m,\u001b[0m \u001b[1;33m**\u001b[0m\u001b[0mkwargs\u001b[0m\u001b[1;33m)\u001b[0m\u001b[1;33m\u001b[0m\u001b[1;33m\u001b[0m\u001b[0m\n\u001b[0;32m    326\u001b[0m                 \u001b[1;32melse\u001b[0m\u001b[1;33m:\u001b[0m\u001b[1;33m\u001b[0m\u001b[1;33m\u001b[0m\u001b[0m\n\u001b[1;32m--> 327\u001b[1;33m                     \u001b[0mapplied\u001b[0m \u001b[1;33m=\u001b[0m \u001b[0mgetattr\u001b[0m\u001b[1;33m(\u001b[0m\u001b[0mb\u001b[0m\u001b[1;33m,\u001b[0m \u001b[0mf\u001b[0m\u001b[1;33m)\u001b[0m\u001b[1;33m(\u001b[0m\u001b[1;33m**\u001b[0m\u001b[0mkwargs\u001b[0m\u001b[1;33m)\u001b[0m\u001b[1;33m\u001b[0m\u001b[1;33m\u001b[0m\u001b[0m\n\u001b[0m\u001b[0;32m    328\u001b[0m             \u001b[1;32mexcept\u001b[0m \u001b[1;33m(\u001b[0m\u001b[0mTypeError\u001b[0m\u001b[1;33m,\u001b[0m \u001b[0mNotImplementedError\u001b[0m\u001b[1;33m)\u001b[0m\u001b[1;33m:\u001b[0m\u001b[1;33m\u001b[0m\u001b[1;33m\u001b[0m\u001b[0m\n\u001b[0;32m    329\u001b[0m                 \u001b[1;32mif\u001b[0m \u001b[1;32mnot\u001b[0m \u001b[0mignore_failures\u001b[0m\u001b[1;33m:\u001b[0m\u001b[1;33m\u001b[0m\u001b[1;33m\u001b[0m\u001b[0m\n",
      "\u001b[1;32m~\\AppData\\Roaming\\Python\\Python37\\site-packages\\pandas\\core\\internals\\blocks.py\u001b[0m in \u001b[0;36mastype\u001b[1;34m(self, dtype, copy, errors)\u001b[0m\n\u001b[0;32m    589\u001b[0m         \u001b[0mvalues\u001b[0m \u001b[1;33m=\u001b[0m \u001b[0mself\u001b[0m\u001b[1;33m.\u001b[0m\u001b[0mvalues\u001b[0m\u001b[1;33m\u001b[0m\u001b[1;33m\u001b[0m\u001b[0m\n\u001b[0;32m    590\u001b[0m \u001b[1;33m\u001b[0m\u001b[0m\n\u001b[1;32m--> 591\u001b[1;33m         \u001b[0mnew_values\u001b[0m \u001b[1;33m=\u001b[0m \u001b[0mastype_array_safe\u001b[0m\u001b[1;33m(\u001b[0m\u001b[0mvalues\u001b[0m\u001b[1;33m,\u001b[0m \u001b[0mdtype\u001b[0m\u001b[1;33m,\u001b[0m \u001b[0mcopy\u001b[0m\u001b[1;33m=\u001b[0m\u001b[0mcopy\u001b[0m\u001b[1;33m,\u001b[0m \u001b[0merrors\u001b[0m\u001b[1;33m=\u001b[0m\u001b[0merrors\u001b[0m\u001b[1;33m)\u001b[0m\u001b[1;33m\u001b[0m\u001b[1;33m\u001b[0m\u001b[0m\n\u001b[0m\u001b[0;32m    592\u001b[0m \u001b[1;33m\u001b[0m\u001b[0m\n\u001b[0;32m    593\u001b[0m         \u001b[0mnew_values\u001b[0m \u001b[1;33m=\u001b[0m \u001b[0mmaybe_coerce_values\u001b[0m\u001b[1;33m(\u001b[0m\u001b[0mnew_values\u001b[0m\u001b[1;33m)\u001b[0m\u001b[1;33m\u001b[0m\u001b[1;33m\u001b[0m\u001b[0m\n",
      "\u001b[1;32m~\\AppData\\Roaming\\Python\\Python37\\site-packages\\pandas\\core\\dtypes\\cast.py\u001b[0m in \u001b[0;36mastype_array_safe\u001b[1;34m(values, dtype, copy, errors)\u001b[0m\n\u001b[0;32m   1307\u001b[0m \u001b[1;33m\u001b[0m\u001b[0m\n\u001b[0;32m   1308\u001b[0m     \u001b[1;32mtry\u001b[0m\u001b[1;33m:\u001b[0m\u001b[1;33m\u001b[0m\u001b[1;33m\u001b[0m\u001b[0m\n\u001b[1;32m-> 1309\u001b[1;33m         \u001b[0mnew_values\u001b[0m \u001b[1;33m=\u001b[0m \u001b[0mastype_array\u001b[0m\u001b[1;33m(\u001b[0m\u001b[0mvalues\u001b[0m\u001b[1;33m,\u001b[0m \u001b[0mdtype\u001b[0m\u001b[1;33m,\u001b[0m \u001b[0mcopy\u001b[0m\u001b[1;33m=\u001b[0m\u001b[0mcopy\u001b[0m\u001b[1;33m)\u001b[0m\u001b[1;33m\u001b[0m\u001b[1;33m\u001b[0m\u001b[0m\n\u001b[0m\u001b[0;32m   1310\u001b[0m     \u001b[1;32mexcept\u001b[0m \u001b[1;33m(\u001b[0m\u001b[0mValueError\u001b[0m\u001b[1;33m,\u001b[0m \u001b[0mTypeError\u001b[0m\u001b[1;33m)\u001b[0m\u001b[1;33m:\u001b[0m\u001b[1;33m\u001b[0m\u001b[1;33m\u001b[0m\u001b[0m\n\u001b[0;32m   1311\u001b[0m         \u001b[1;31m# e.g. astype_nansafe can fail on object-dtype of strings\u001b[0m\u001b[1;33m\u001b[0m\u001b[1;33m\u001b[0m\u001b[1;33m\u001b[0m\u001b[0m\n",
      "\u001b[1;32m~\\AppData\\Roaming\\Python\\Python37\\site-packages\\pandas\\core\\dtypes\\cast.py\u001b[0m in \u001b[0;36mastype_array\u001b[1;34m(values, dtype, copy)\u001b[0m\n\u001b[0;32m   1255\u001b[0m \u001b[1;33m\u001b[0m\u001b[0m\n\u001b[0;32m   1256\u001b[0m     \u001b[1;32melse\u001b[0m\u001b[1;33m:\u001b[0m\u001b[1;33m\u001b[0m\u001b[1;33m\u001b[0m\u001b[0m\n\u001b[1;32m-> 1257\u001b[1;33m         \u001b[0mvalues\u001b[0m \u001b[1;33m=\u001b[0m \u001b[0mastype_nansafe\u001b[0m\u001b[1;33m(\u001b[0m\u001b[0mvalues\u001b[0m\u001b[1;33m,\u001b[0m \u001b[0mdtype\u001b[0m\u001b[1;33m,\u001b[0m \u001b[0mcopy\u001b[0m\u001b[1;33m=\u001b[0m\u001b[0mcopy\u001b[0m\u001b[1;33m)\u001b[0m\u001b[1;33m\u001b[0m\u001b[1;33m\u001b[0m\u001b[0m\n\u001b[0m\u001b[0;32m   1258\u001b[0m \u001b[1;33m\u001b[0m\u001b[0m\n\u001b[0;32m   1259\u001b[0m     \u001b[1;31m# in pandas we don't store numpy str dtypes, so convert to object\u001b[0m\u001b[1;33m\u001b[0m\u001b[1;33m\u001b[0m\u001b[1;33m\u001b[0m\u001b[0m\n",
      "\u001b[1;32m~\\AppData\\Roaming\\Python\\Python37\\site-packages\\pandas\\core\\dtypes\\cast.py\u001b[0m in \u001b[0;36mastype_nansafe\u001b[1;34m(arr, dtype, copy, skipna)\u001b[0m\n\u001b[0;32m   1093\u001b[0m     \u001b[1;32mif\u001b[0m \u001b[0marr\u001b[0m\u001b[1;33m.\u001b[0m\u001b[0mndim\u001b[0m \u001b[1;33m>\u001b[0m \u001b[1;36m1\u001b[0m\u001b[1;33m:\u001b[0m\u001b[1;33m\u001b[0m\u001b[1;33m\u001b[0m\u001b[0m\n\u001b[0;32m   1094\u001b[0m         \u001b[0mflat\u001b[0m \u001b[1;33m=\u001b[0m \u001b[0marr\u001b[0m\u001b[1;33m.\u001b[0m\u001b[0mravel\u001b[0m\u001b[1;33m(\u001b[0m\u001b[1;33m)\u001b[0m\u001b[1;33m\u001b[0m\u001b[1;33m\u001b[0m\u001b[0m\n\u001b[1;32m-> 1095\u001b[1;33m         \u001b[0mresult\u001b[0m \u001b[1;33m=\u001b[0m \u001b[0mastype_nansafe\u001b[0m\u001b[1;33m(\u001b[0m\u001b[0mflat\u001b[0m\u001b[1;33m,\u001b[0m \u001b[0mdtype\u001b[0m\u001b[1;33m,\u001b[0m \u001b[0mcopy\u001b[0m\u001b[1;33m=\u001b[0m\u001b[0mcopy\u001b[0m\u001b[1;33m,\u001b[0m \u001b[0mskipna\u001b[0m\u001b[1;33m=\u001b[0m\u001b[0mskipna\u001b[0m\u001b[1;33m)\u001b[0m\u001b[1;33m\u001b[0m\u001b[1;33m\u001b[0m\u001b[0m\n\u001b[0m\u001b[0;32m   1096\u001b[0m         \u001b[1;31m# error: Item \"ExtensionArray\" of \"Union[ExtensionArray, ndarray]\" has no\u001b[0m\u001b[1;33m\u001b[0m\u001b[1;33m\u001b[0m\u001b[1;33m\u001b[0m\u001b[0m\n\u001b[0;32m   1097\u001b[0m         \u001b[1;31m# attribute \"reshape\"\u001b[0m\u001b[1;33m\u001b[0m\u001b[1;33m\u001b[0m\u001b[1;33m\u001b[0m\u001b[0m\n",
      "\u001b[1;32m~\\AppData\\Roaming\\Python\\Python37\\site-packages\\pandas\\core\\dtypes\\cast.py\u001b[0m in \u001b[0;36mastype_nansafe\u001b[1;34m(arr, dtype, copy, skipna)\u001b[0m\n\u001b[0;32m   1199\u001b[0m     \u001b[1;32mif\u001b[0m \u001b[0mcopy\u001b[0m \u001b[1;32mor\u001b[0m \u001b[0mis_object_dtype\u001b[0m\u001b[1;33m(\u001b[0m\u001b[0marr\u001b[0m\u001b[1;33m.\u001b[0m\u001b[0mdtype\u001b[0m\u001b[1;33m)\u001b[0m \u001b[1;32mor\u001b[0m \u001b[0mis_object_dtype\u001b[0m\u001b[1;33m(\u001b[0m\u001b[0mdtype\u001b[0m\u001b[1;33m)\u001b[0m\u001b[1;33m:\u001b[0m\u001b[1;33m\u001b[0m\u001b[1;33m\u001b[0m\u001b[0m\n\u001b[0;32m   1200\u001b[0m         \u001b[1;31m# Explicit copy, or required since NumPy can't view from / to object.\u001b[0m\u001b[1;33m\u001b[0m\u001b[1;33m\u001b[0m\u001b[1;33m\u001b[0m\u001b[0m\n\u001b[1;32m-> 1201\u001b[1;33m         \u001b[1;32mreturn\u001b[0m \u001b[0marr\u001b[0m\u001b[1;33m.\u001b[0m\u001b[0mastype\u001b[0m\u001b[1;33m(\u001b[0m\u001b[0mdtype\u001b[0m\u001b[1;33m,\u001b[0m \u001b[0mcopy\u001b[0m\u001b[1;33m=\u001b[0m\u001b[1;32mTrue\u001b[0m\u001b[1;33m)\u001b[0m\u001b[1;33m\u001b[0m\u001b[1;33m\u001b[0m\u001b[0m\n\u001b[0m\u001b[0;32m   1202\u001b[0m \u001b[1;33m\u001b[0m\u001b[0m\n\u001b[0;32m   1203\u001b[0m     \u001b[1;32mreturn\u001b[0m \u001b[0marr\u001b[0m\u001b[1;33m.\u001b[0m\u001b[0mastype\u001b[0m\u001b[1;33m(\u001b[0m\u001b[0mdtype\u001b[0m\u001b[1;33m,\u001b[0m \u001b[0mcopy\u001b[0m\u001b[1;33m=\u001b[0m\u001b[0mcopy\u001b[0m\u001b[1;33m)\u001b[0m\u001b[1;33m\u001b[0m\u001b[1;33m\u001b[0m\u001b[0m\n",
      "\u001b[1;31mMemoryError\u001b[0m: Unable to allocate 115. GiB for an array with shape (30970899480,) and data type int32"
     ]
    }
   ],
   "source": [
    "\n",
    "mag = mag.drop('indexed_keyword', 1).join(\n",
    "    pd.get_dummies(\n",
    "        pd.DataFrame(mag.indexed_keyword.tolist(), mag.index).stack()\n",
    "    ).astype(int).groupby(level=0).sum()\n",
    ")"
   ]
  },
  {
   "cell_type": "code",
   "execution_count": 30,
   "metadata": {},
   "outputs": [
    {
     "name": "stdout",
     "output_type": "stream",
     "text": [
      "Index(['id', 'title', 'year', 'author_name', 'author_org', 'author_id',\n",
      "       'n_citation', 'doc_type', 'reference_count', 'references',\n",
      "       ...\n",
      "       '“Artificial;Intelligence”;modeling.;generates;called;project;sub-concepts.;enhancement;nearest;research;that;ongoing;Creativity”;stimuli;generated;“Intelligence”;“Artificiality”;This;model;from;blending;replacements;up;creativity;blends;area;new;using;lexical;goal;comprising;this;For;is;an;whose;tool;users;creative;important;compounded;as;system;provide;concepts.;neighborhood;helps;present;larger;providing;In;blend;concept;part;for;generation,;comes;their;two;thinking;we;example;futuristic;paper;CAPRICON;and;of;by;takes;enhance;a;one;ontology.;the;Conceptual;existing;with;After;to',\n",
      "       '“WWW”;aspect.;relation;these;number;dynamics;identified;identification;meaning;easily;model;between;order;acronyms;acronyms,;in;considering;acronyms.;spreading;is;an;way);perspective.;as;exchanged;Acronyms;evaluate;phonic;components;other;study;be;Numerical;role;In;grammatical;agent-based;seem;linguistic;increases;entropy;found;composed;dynamics.;are;“radar”;by;Web);a;initial;acronym;people;simulations;the;confirm;able;hand,;to;Usually,;classification);correct;sometimes;sign;existence;simple;unknown.;instance,;Shannon;that;particular,;solution;find;whether;(i.e.,WorldWide;from;has;“laser”;signs,;codification;For;this;its;(i.e.,;meaning.;steps;both;proposed;therefore;needed;for;their;investigate;we;can;hypothesis,;signs;phonetic;central;and;of;define;nouns;“btw”;hypothesize;process;or;identify;entropy.;We;with;form;although;time;On',\n",
      "       '“blackbox”;these;blackbox;four;model;state;guide;phase;frames;in;is;triggers;an;blackbox.;each;actors;as;begin;contestation.;endogenous;role;dismantling;another;grounded;formation;two;The;result;into;search;web;are;perspective;phases:;creation;key;a;may;change;spiral;actornetworks;dismantle;the;highlights;Model;to;technological;seeks;through;interconnected;data;subject;networking;blackboxed;that;This;inscription;artifacts;development;blackboxing;contest;posits;goes;this;its;Actors;develop;(1994-2005).;technology.;article;both;technologies;These;leads;contest,;frame;who;for;according;their;Yet;formation,;network;can;impose;and;of;browser;evertightening;archival;on;successful;over;process;frame.;technologies.;evolution;technology;Spiral;enrollment;actor-networks.;contests;concerning;round;engage;uses;reversible,;time;evolutionary;exogenous',\n",
      "       '“liaison”;results.;recognition;paper,;that;depending;continuous;dramatically;model;which;development;pronunciation;in;this;acoustic;is;an;decoding;as;system;present,;integration;phenomenon,;“liaison”,;word;much;In;immediately;variability;liaison,;The;result;into;not;French;known;does;and;of;by;takes;on;ASR;a;it.;wide;unnatural;caused;change;words;dissatisfaction.;requirement;many;We;the;speech;preceding;user;account;pronunciations',\n",
      "       '“local”;10K;hand–annotated;approach;“mini–;annotated;cast;problem;bottleneck;understanding;sentences.;tag(s);(SVM);based;“mini–corpus”;natural;method;in;is;classification;an;propose;each;resulting;compared:;bootstrapping;as;contains;unique;domain;conventionally;set.;assigned;word;semantic;systems.;scheme;methods;experiments;The;are;NLU;reduces;(baseline),;vector;enables;annotation;a;set;initial;describes;the;problem:;annotation.;tag/label;machine;to;parsed–based;partially;(NLU);medical;language;used;annotations.;that;major;shown;This;from;train;development;manually;conducted;Three;both;parser;proposed;corpus”;present;support;for;paper;and;similarity;of;and/or;universal;on;semi–;outperform;cost;classification–based;automatic;We;time;label(s);methodology;forms',\n",
      "       '∀;⊂;introduces;[a,;∈;program;characteristics.;without;second;derivatives;→;presented;function;few;R,;g1(x),...,gn(x);new;in;this;its;real;finding;functions.;multivariant;examples;:;b];g(x);=;some;part.;part;for;exclusion;fundamental;global;The;b],;numerical;notion;paper;max{g1(x),...,gn(x)},;are;and;of;where;Rm;Maple;a;variables;g;also;describes;structure;the;special;x;uses;minimum;first',\n",
      "       '⊂;u003c;compact;e--nets.;theorems;space;terms;Then;state;respectively.;),;in;finite;this;Furthermore,;);Ω;is;bounded;1;theorem;Here;relatively;subsets;chapter;prove;C;In;Frechet-Kolmogorov;K;L;Hausdorff’s;we;N;R;∞.;notions;and;of;define;(Ω;;a;set;≤;n;the;p;space,;metric;(K;;Ascoli-Arzela;complete;space.;characterization;first;subset;open',\n",
      "       '在这份报纸，有随机定位的节点的一个机会主义的合作特定的传感器网络被分析。节点地点的随意被一个同类的泊松点过程捕获。有瑕疵的干扰取消的效果也在分析被考虑。基于随机的几何学，停止概率和合作获得的理论被导出。明确的表演获得能通过合作被完成，这被表明。分析被广泛的模拟结果支持，分析结果能因此为无线传感器网络设计用作一个指南。',\n",
      "       '研究科・専攻:;修士;学位の種別:;修士（情報理工学）;学位記番号:;2013-03-25;;;情報理工学系研究科・電子情報学専攻;報告番号:;学位授与日:;学位の種類:',\n",
      "       '���������������;������!����;��!�;��!������$;����������������;�����;�#����;���������;��������������;����������;������;�����������;�������;��!�\"�!$;�;���;����;��������;��'],\n",
      "      dtype='object', length=5744)\n"
     ]
    }
   ],
   "source": [
    "print(mag.columns)"
   ]
  }
 ],
 "metadata": {
  "kernelspec": {
   "display_name": "Python 3",
   "language": "python",
   "name": "python3"
  },
  "language_info": {
   "codemirror_mode": {
    "name": "ipython",
    "version": 3
   },
   "file_extension": ".py",
   "mimetype": "text/x-python",
   "name": "python",
   "nbconvert_exporter": "python",
   "pygments_lexer": "ipython3",
   "version": "3.7.16"
  },
  "orig_nbformat": 4
 },
 "nbformat": 4,
 "nbformat_minor": 2
}
