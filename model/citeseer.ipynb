{
 "cells": [
  {
   "cell_type": "code",
   "execution_count": null,
   "metadata": {},
   "outputs": [],
   "source": [
    "# cs_cites = pd.read_csv(\n",
    "#     '../data/citeseer.cites.csv',\n",
    "#     sep=\"\\t\",\n",
    "#     header=None,\n",
    "#     names=[\"target\", \"source\"],\n",
    "#     ) # no column unique\n",
    "# print(cs_cites.head())\n",
    "# cs_content = pd.read_csv(\n",
    "#     '../data/citeseer.content.csv',\n",
    "#     sep=\"\\t\",\n",
    "#     header=None,\n",
    "#     names=[\"target\", \"source\"],\n",
    "#     ) # no unique column\n",
    "# print(cs_content.head())\n",
    "# cs_paper = pd.read_csv(\n",
    "#     '../data/citeseer.paper.csv',\n",
    "#     sep=\"\\t\",\n",
    "#     header=None,\n",
    "#     names=[\"target\", \"source\"],\n",
    "#     ) # unique paper id\n",
    "# print(cs_paper.head())"
   ]
  }
 ],
 "metadata": {
  "language_info": {
   "name": "python"
  },
  "orig_nbformat": 4
 },
 "nbformat": 4,
 "nbformat_minor": 2
}
