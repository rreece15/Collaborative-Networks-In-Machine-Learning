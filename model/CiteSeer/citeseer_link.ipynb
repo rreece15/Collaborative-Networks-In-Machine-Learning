{
 "cells": [
  {
   "cell_type": "code",
   "execution_count": 16,
   "metadata": {},
   "outputs": [],
   "source": [
    "import tensorflow as tf\n",
    "import stellargraph as sg\n",
    "from stellargraph.data import EdgeSplitter\n",
    "from stellargraph.mapper import FullBatchLinkGenerator\n",
    "from stellargraph.layer import GCN, LinkEmbedding\n",
    "\n",
    "\n",
    "from tensorflow import keras\n",
    "from sklearn import preprocessing, feature_extraction, model_selection\n",
    "\n",
    "from stellargraph import globalvar\n",
    "from stellargraph import datasets\n",
    "from IPython.display import display, HTML\n",
    "%matplotlib inline"
   ]
  },
  {
   "cell_type": "code",
   "execution_count": 4,
   "metadata": {},
   "outputs": [
    {
     "data": {
      "text/html": [
       "The CiteSeer dataset consists of 3312 scientific publications classified into one of six classes. The citation network consists of 4732 links, although 17 of these have a source or target publication that isn't in the dataset and only 4715 are included in the graph. Each publication in the dataset is described by a 0/1-valued word vector indicating the absence/presence of the corresponding word from the dictionary. The dictionary consists of 3703 unique words."
      ],
      "text/plain": [
       "<IPython.core.display.HTML object>"
      ]
     },
     "metadata": {},
     "output_type": "display_data"
    }
   ],
   "source": [
    "dataset = datasets.CiteSeer()\n",
    "display(HTML(dataset.description))\n",
    "G, _ = dataset.load()# subject_as_feature=True)"
   ]
  },
  {
   "cell_type": "code",
   "execution_count": 5,
   "metadata": {},
   "outputs": [
    {
     "name": "stdout",
     "output_type": "stream",
     "text": [
      "StellarGraph: Undirected multigraph\n",
      " Nodes: 3312, Edges: 4715\n",
      "\n",
      " Node types:\n",
      "  paper: [3312]\n",
      "    Features: float32 vector, length 3703\n",
      "    Edge types: paper-cites->paper\n",
      "\n",
      " Edge types:\n",
      "    paper-cites->paper: [4715]\n",
      "        Weights: all 1 (default)\n",
      "        Features: none\n"
     ]
    }
   ],
   "source": [
    "print(G.info())"
   ]
  },
  {
   "cell_type": "code",
   "execution_count": 6,
   "metadata": {},
   "outputs": [
    {
     "name": "stdout",
     "output_type": "stream",
     "text": [
      "** Sampled 471 positive and 471 negative edges. **\n"
     ]
    }
   ],
   "source": [
    "# Define an edge splitter on the original graph G:\n",
    "edge_splitter_test = EdgeSplitter(G)\n",
    "\n",
    "# Randomly sample a fraction p=0.1 of all positive links, and same number of negative links, from G, and obtain the\n",
    "# reduced graph G_test with the sampled links removed:\n",
    "G_test, edge_ids_test, edge_labels_test = edge_splitter_test.train_test_split(\n",
    "    p=0.1, method=\"global\", keep_connected=True\n",
    ")"
   ]
  },
  {
   "cell_type": "code",
   "execution_count": 7,
   "metadata": {},
   "outputs": [
    {
     "name": "stdout",
     "output_type": "stream",
     "text": [
      "** Sampled 424 positive and 424 negative edges. **\n"
     ]
    }
   ],
   "source": [
    "# Define an edge splitter on the reduced graph G_test:\n",
    "edge_splitter_train = EdgeSplitter(G_test)\n",
    "\n",
    "# Randomly sample a fraction p=0.1 of all positive links, and same number of negative links, from G_test, and obtain the\n",
    "# reduced graph G_train with the sampled links removed:\n",
    "G_train, edge_ids_train, edge_labels_train = edge_splitter_train.train_test_split(\n",
    "    p=0.1, method=\"global\", keep_connected=True\n",
    ")\n",
    "\n"
   ]
  },
  {
   "cell_type": "code",
   "execution_count": 8,
   "metadata": {},
   "outputs": [],
   "source": [
    "epochs = 50"
   ]
  },
  {
   "cell_type": "code",
   "execution_count": 9,
   "metadata": {},
   "outputs": [
    {
     "name": "stdout",
     "output_type": "stream",
     "text": [
      "Using GCN (local pooling) filters...\n"
     ]
    }
   ],
   "source": [
    "train_gen = FullBatchLinkGenerator(G_train, method=\"gcn\")\n",
    "train_flow = train_gen.flow(edge_ids_train, edge_labels_train)"
   ]
  },
  {
   "cell_type": "code",
   "execution_count": 10,
   "metadata": {},
   "outputs": [
    {
     "name": "stdout",
     "output_type": "stream",
     "text": [
      "Using GCN (local pooling) filters...\n"
     ]
    }
   ],
   "source": [
    "test_gen = FullBatchLinkGenerator(G_test, method=\"gcn\")\n",
    "test_flow = train_gen.flow(edge_ids_test, edge_labels_test)"
   ]
  },
  {
   "cell_type": "code",
   "execution_count": 11,
   "metadata": {},
   "outputs": [],
   "source": [
    "gcn = GCN(\n",
    "    layer_sizes=[16, 16], activations=[\"relu\", \"relu\"], generator=train_gen, dropout=0.3\n",
    ")"
   ]
  },
  {
   "cell_type": "code",
   "execution_count": 12,
   "metadata": {},
   "outputs": [],
   "source": [
    "x_inp, x_out = gcn.in_out_tensors()"
   ]
  },
  {
   "cell_type": "code",
   "execution_count": 13,
   "metadata": {},
   "outputs": [],
   "source": [
    "prediction = LinkEmbedding(activation=\"relu\", method=\"ip\")(x_out)"
   ]
  },
  {
   "cell_type": "code",
   "execution_count": 14,
   "metadata": {},
   "outputs": [],
   "source": [
    "prediction = keras.layers.Reshape((-1,))(prediction)"
   ]
  },
  {
   "cell_type": "code",
   "execution_count": 17,
   "metadata": {},
   "outputs": [
    {
     "name": "stderr",
     "output_type": "stream",
     "text": [
      "c:\\Users\\reece\\miniconda3\\envs\\tensorflow_cpu\\lib\\site-packages\\keras\\optimizers\\optimizer_v2\\adam.py:114: UserWarning: The `lr` argument is deprecated, use `learning_rate` instead.\n",
      "  super().__init__(name, **kwargs)\n"
     ]
    }
   ],
   "source": [
    "model = keras.Model(inputs=x_inp, outputs=prediction)\n",
    "\n",
    "history = model.compile(\n",
    "    optimizer=keras.optimizers.Adam(lr=0.01),\n",
    "    loss=keras.losses.binary_crossentropy,\n",
    "    metrics=[tf.keras.metrics.BinaryAccuracy()],\n",
    ")"
   ]
  },
  {
   "cell_type": "code",
   "execution_count": 18,
   "metadata": {},
   "outputs": [
    {
     "name": "stdout",
     "output_type": "stream",
     "text": [
      "None\n"
     ]
    }
   ],
   "source": [
    "print(history)"
   ]
  },
  {
   "cell_type": "code",
   "execution_count": 19,
   "metadata": {},
   "outputs": [
    {
     "name": "stdout",
     "output_type": "stream",
     "text": [
      "1/1 [==============================] - 0s 371ms/step - loss: 2.0162 - binary_accuracy: 0.5000\n",
      "1/1 [==============================] - 0s 106ms/step - loss: 2.0119 - binary_accuracy: 0.5000\n",
      "\n",
      "Train Set Metrics of the initial (untrained) model:\n",
      "\tloss: 2.0162\n",
      "\tbinary_accuracy: 0.5000\n",
      "\n",
      "Test Set Metrics of the initial (untrained) model:\n",
      "\tloss: 2.0119\n",
      "\tbinary_accuracy: 0.5000\n"
     ]
    }
   ],
   "source": [
    "init_train_metrics = model.evaluate(train_flow)\n",
    "init_test_metrics = model.evaluate(test_flow)\n",
    "\n",
    "print(\"\\nTrain Set Metrics of the initial (untrained) model:\")\n",
    "for name, val in zip(model.metrics_names, init_train_metrics):\n",
    "    print(\"\\t{}: {:0.4f}\".format(name, val))\n",
    "\n",
    "print(\"\\nTest Set Metrics of the initial (untrained) model:\")\n",
    "for name, val in zip(model.metrics_names, init_test_metrics):\n",
    "    print(\"\\t{}: {:0.4f}\".format(name, val))"
   ]
  },
  {
   "cell_type": "code",
   "execution_count": 20,
   "metadata": {},
   "outputs": [
    {
     "name": "stdout",
     "output_type": "stream",
     "text": [
      "Epoch 1/50\n",
      "1/1 - 2s - loss: 1.9296 - binary_accuracy: 0.5000 - val_loss: 5.8072 - val_binary_accuracy: 0.4979 - 2s/epoch - 2s/step\n",
      "Epoch 2/50\n",
      "1/1 - 0s - loss: 5.1150 - binary_accuracy: 0.5083 - val_loss: 5.0828 - val_binary_accuracy: 0.4989 - 241ms/epoch - 241ms/step\n",
      "Epoch 3/50\n",
      "1/1 - 0s - loss: 4.9280 - binary_accuracy: 0.5118 - val_loss: 0.8141 - val_binary_accuracy: 0.6752 - 254ms/epoch - 254ms/step\n",
      "Epoch 4/50\n",
      "1/1 - 0s - loss: 1.0024 - binary_accuracy: 0.7276 - val_loss: 0.5939 - val_binary_accuracy: 0.7006 - 259ms/epoch - 259ms/step\n",
      "Epoch 5/50\n",
      "1/1 - 0s - loss: 0.4943 - binary_accuracy: 0.7370 - val_loss: 0.7751 - val_binary_accuracy: 0.6093 - 335ms/epoch - 335ms/step\n",
      "Epoch 6/50\n",
      "1/1 - 0s - loss: 0.6354 - binary_accuracy: 0.6203 - val_loss: 0.8022 - val_binary_accuracy: 0.5977 - 277ms/epoch - 277ms/step\n",
      "Epoch 7/50\n",
      "1/1 - 0s - loss: 0.6608 - binary_accuracy: 0.6274 - val_loss: 0.7104 - val_binary_accuracy: 0.6433 - 304ms/epoch - 304ms/step\n",
      "Epoch 8/50\n",
      "1/1 - 0s - loss: 0.5893 - binary_accuracy: 0.6686 - val_loss: 0.5760 - val_binary_accuracy: 0.7017 - 315ms/epoch - 315ms/step\n",
      "Epoch 9/50\n",
      "1/1 - 0s - loss: 0.4616 - binary_accuracy: 0.7606 - val_loss: 0.5009 - val_binary_accuracy: 0.7622 - 287ms/epoch - 287ms/step\n",
      "Epoch 10/50\n",
      "1/1 - 0s - loss: 0.4284 - binary_accuracy: 0.8172 - val_loss: 0.5531 - val_binary_accuracy: 0.7601 - 243ms/epoch - 243ms/step\n",
      "Epoch 11/50\n",
      "1/1 - 0s - loss: 0.4796 - binary_accuracy: 0.8550 - val_loss: 0.5628 - val_binary_accuracy: 0.7739 - 287ms/epoch - 287ms/step\n",
      "Epoch 12/50\n",
      "1/1 - 0s - loss: 0.4873 - binary_accuracy: 0.8443 - val_loss: 0.5006 - val_binary_accuracy: 0.7983 - 262ms/epoch - 262ms/step\n",
      "Epoch 13/50\n",
      "1/1 - 0s - loss: 0.4070 - binary_accuracy: 0.8821 - val_loss: 0.4900 - val_binary_accuracy: 0.7962 - 230ms/epoch - 230ms/step\n",
      "Epoch 14/50\n",
      "1/1 - 0s - loss: 0.3431 - binary_accuracy: 0.8998 - val_loss: 0.4739 - val_binary_accuracy: 0.7983 - 258ms/epoch - 258ms/step\n",
      "Epoch 15/50\n",
      "1/1 - 0s - loss: 0.2990 - binary_accuracy: 0.8962 - val_loss: 0.4813 - val_binary_accuracy: 0.8079 - 249ms/epoch - 249ms/step\n",
      "Epoch 16/50\n",
      "1/1 - 0s - loss: 0.2739 - binary_accuracy: 0.8986 - val_loss: 0.4819 - val_binary_accuracy: 0.8110 - 276ms/epoch - 276ms/step\n",
      "Epoch 17/50\n",
      "1/1 - 0s - loss: 0.2599 - binary_accuracy: 0.8974 - val_loss: 0.5049 - val_binary_accuracy: 0.8089 - 262ms/epoch - 262ms/step\n",
      "Epoch 18/50\n",
      "1/1 - 0s - loss: 0.2304 - binary_accuracy: 0.9127 - val_loss: 0.5196 - val_binary_accuracy: 0.8047 - 228ms/epoch - 228ms/step\n",
      "Epoch 19/50\n",
      "1/1 - 0s - loss: 0.2579 - binary_accuracy: 0.8950 - val_loss: 0.5296 - val_binary_accuracy: 0.7951 - 275ms/epoch - 275ms/step\n",
      "Epoch 20/50\n",
      "1/1 - 0s - loss: 0.2543 - binary_accuracy: 0.8950 - val_loss: 0.5317 - val_binary_accuracy: 0.7962 - 239ms/epoch - 239ms/step\n",
      "Epoch 21/50\n",
      "1/1 - 0s - loss: 0.2569 - binary_accuracy: 0.9009 - val_loss: 0.5290 - val_binary_accuracy: 0.8025 - 235ms/epoch - 235ms/step\n",
      "Epoch 22/50\n",
      "1/1 - 0s - loss: 0.2386 - binary_accuracy: 0.9021 - val_loss: 0.5338 - val_binary_accuracy: 0.8079 - 230ms/epoch - 230ms/step\n",
      "Epoch 23/50\n",
      "1/1 - 0s - loss: 0.2233 - binary_accuracy: 0.9198 - val_loss: 0.5400 - val_binary_accuracy: 0.8142 - 237ms/epoch - 237ms/step\n",
      "Epoch 24/50\n",
      "1/1 - 0s - loss: 0.1778 - binary_accuracy: 0.9328 - val_loss: 0.5452 - val_binary_accuracy: 0.8248 - 231ms/epoch - 231ms/step\n",
      "Epoch 25/50\n",
      "1/1 - 0s - loss: 0.1748 - binary_accuracy: 0.9363 - val_loss: 0.5629 - val_binary_accuracy: 0.8291 - 230ms/epoch - 230ms/step\n",
      "Epoch 26/50\n",
      "1/1 - 0s - loss: 0.1594 - binary_accuracy: 0.9552 - val_loss: 0.5814 - val_binary_accuracy: 0.8386 - 232ms/epoch - 232ms/step\n",
      "Epoch 27/50\n",
      "1/1 - 0s - loss: 0.1437 - binary_accuracy: 0.9564 - val_loss: 0.5866 - val_binary_accuracy: 0.8439 - 244ms/epoch - 244ms/step\n",
      "Epoch 28/50\n",
      "1/1 - 0s - loss: 0.1541 - binary_accuracy: 0.9564 - val_loss: 0.5970 - val_binary_accuracy: 0.8408 - 249ms/epoch - 249ms/step\n",
      "Epoch 29/50\n",
      "1/1 - 0s - loss: 0.1365 - binary_accuracy: 0.9634 - val_loss: 0.6176 - val_binary_accuracy: 0.8408 - 227ms/epoch - 227ms/step\n",
      "Epoch 30/50\n",
      "1/1 - 0s - loss: 0.1332 - binary_accuracy: 0.9717 - val_loss: 0.6289 - val_binary_accuracy: 0.8429 - 245ms/epoch - 245ms/step\n",
      "Epoch 31/50\n",
      "1/1 - 0s - loss: 0.1116 - binary_accuracy: 0.9693 - val_loss: 0.6297 - val_binary_accuracy: 0.8471 - 247ms/epoch - 247ms/step\n",
      "Epoch 32/50\n",
      "1/1 - 0s - loss: 0.1362 - binary_accuracy: 0.9717 - val_loss: 0.6323 - val_binary_accuracy: 0.8461 - 243ms/epoch - 243ms/step\n",
      "Epoch 33/50\n",
      "1/1 - 0s - loss: 0.1363 - binary_accuracy: 0.9658 - val_loss: 0.6581 - val_binary_accuracy: 0.8439 - 232ms/epoch - 232ms/step\n",
      "Epoch 34/50\n",
      "1/1 - 0s - loss: 0.1334 - binary_accuracy: 0.9623 - val_loss: 0.6598 - val_binary_accuracy: 0.8461 - 231ms/epoch - 231ms/step\n",
      "Epoch 35/50\n",
      "1/1 - 0s - loss: 0.1339 - binary_accuracy: 0.9764 - val_loss: 0.6514 - val_binary_accuracy: 0.8482 - 274ms/epoch - 274ms/step\n",
      "Epoch 36/50\n",
      "1/1 - 0s - loss: 0.1018 - binary_accuracy: 0.9764 - val_loss: 0.6521 - val_binary_accuracy: 0.8429 - 266ms/epoch - 266ms/step\n",
      "Epoch 37/50\n",
      "1/1 - 0s - loss: 0.0717 - binary_accuracy: 0.9858 - val_loss: 0.6545 - val_binary_accuracy: 0.8439 - 259ms/epoch - 259ms/step\n",
      "Epoch 38/50\n",
      "1/1 - 0s - loss: 0.1004 - binary_accuracy: 0.9729 - val_loss: 0.6578 - val_binary_accuracy: 0.8450 - 306ms/epoch - 306ms/step\n",
      "Epoch 39/50\n",
      "1/1 - 0s - loss: 0.0743 - binary_accuracy: 0.9800 - val_loss: 0.6505 - val_binary_accuracy: 0.8408 - 376ms/epoch - 376ms/step\n",
      "Epoch 40/50\n",
      "1/1 - 0s - loss: 0.1129 - binary_accuracy: 0.9741 - val_loss: 0.6548 - val_binary_accuracy: 0.8418 - 287ms/epoch - 287ms/step\n",
      "Epoch 41/50\n",
      "1/1 - 0s - loss: 0.0694 - binary_accuracy: 0.9811 - val_loss: 0.6603 - val_binary_accuracy: 0.8418 - 258ms/epoch - 258ms/step\n",
      "Epoch 42/50\n",
      "1/1 - 0s - loss: 0.0730 - binary_accuracy: 0.9788 - val_loss: 0.6774 - val_binary_accuracy: 0.8397 - 359ms/epoch - 359ms/step\n",
      "Epoch 43/50\n",
      "1/1 - 0s - loss: 0.0731 - binary_accuracy: 0.9847 - val_loss: 0.6932 - val_binary_accuracy: 0.8386 - 329ms/epoch - 329ms/step\n",
      "Epoch 44/50\n",
      "1/1 - 0s - loss: 0.0710 - binary_accuracy: 0.9788 - val_loss: 0.7105 - val_binary_accuracy: 0.8386 - 276ms/epoch - 276ms/step\n",
      "Epoch 45/50\n",
      "1/1 - 0s - loss: 0.0643 - binary_accuracy: 0.9741 - val_loss: 0.7049 - val_binary_accuracy: 0.8397 - 252ms/epoch - 252ms/step\n",
      "Epoch 46/50\n",
      "1/1 - 0s - loss: 0.0776 - binary_accuracy: 0.9870 - val_loss: 0.7091 - val_binary_accuracy: 0.8408 - 278ms/epoch - 278ms/step\n",
      "Epoch 47/50\n",
      "1/1 - 0s - loss: 0.0585 - binary_accuracy: 0.9870 - val_loss: 0.7138 - val_binary_accuracy: 0.8386 - 260ms/epoch - 260ms/step\n",
      "Epoch 48/50\n",
      "1/1 - 0s - loss: 0.0775 - binary_accuracy: 0.9788 - val_loss: 0.7195 - val_binary_accuracy: 0.8397 - 324ms/epoch - 324ms/step\n",
      "Epoch 49/50\n",
      "1/1 - 0s - loss: 0.0506 - binary_accuracy: 0.9858 - val_loss: 0.7336 - val_binary_accuracy: 0.8429 - 423ms/epoch - 423ms/step\n",
      "Epoch 50/50\n",
      "1/1 - 0s - loss: 0.0795 - binary_accuracy: 0.9788 - val_loss: 0.7330 - val_binary_accuracy: 0.8429 - 334ms/epoch - 334ms/step\n"
     ]
    }
   ],
   "source": [
    "history = model.fit(\n",
    "    train_flow, epochs=epochs, validation_data=test_flow, verbose=2, shuffle=False\n",
    ")"
   ]
  },
  {
   "cell_type": "code",
   "execution_count": 21,
   "metadata": {},
   "outputs": [
    {
     "data": {
      "image/png": "[encoded data removed]",
      "text/plain": [
       "<Figure size 700x800 with 2 Axes>"
      ]
     },
     "metadata": {},
     "output_type": "display_data"
    }
   ],
   "source": [
    "sg.utils.plot_history(history)"
   ]
  },
  {
   "cell_type": "code",
   "execution_count": 22,
   "metadata": {},
   "outputs": [
    {
     "name": "stdout",
     "output_type": "stream",
     "text": [
      "1/1 [==============================] - 0s 209ms/step - loss: 0.0192 - binary_accuracy: 0.9965\n",
      "1/1 [==============================] - 0s 131ms/step - loss: 0.7330 - binary_accuracy: 0.8429\n",
      "\n",
      "Train Set Metrics of the trained model:\n",
      "\tloss: 0.0192\n",
      "\tbinary_accuracy: 0.9965\n",
      "\n",
      "Test Set Metrics of the trained model:\n",
      "\tloss: 0.7330\n",
      "\tbinary_accuracy: 0.8429\n"
     ]
    }
   ],
   "source": [
    "train_metrics = model.evaluate(train_flow)\n",
    "test_metrics = model.evaluate(test_flow)\n",
    "\n",
    "print(\"\\nTrain Set Metrics of the trained model:\")\n",
    "for name, val in zip(model.metrics_names, train_metrics):\n",
    "    print(\"\\t{}: {:0.4f}\".format(name, val))\n",
    "\n",
    "print(\"\\nTest Set Metrics of the trained model:\")\n",
    "for name, val in zip(model.metrics_names, test_metrics):\n",
    "    print(\"\\t{}: {:0.4f}\".format(name, val))\n",
    "\n"
   ]
  }
 ],
 "metadata": {
  "kernelspec": {
   "display_name": "Python 3",
   "language": "python",
   "name": "python3"
  },
  "language_info": {
   "codemirror_mode": {
    "name": "ipython",
    "version": 3
   },
   "file_extension": ".py",
   "mimetype": "text/x-python",
   "name": "python",
   "nbconvert_exporter": "python",
   "pygments_lexer": "ipython3",
   "version": "3.7.16"
  },
  "orig_nbformat": 4
 },
 "nbformat": 4,
 "nbformat_minor": 2
}
