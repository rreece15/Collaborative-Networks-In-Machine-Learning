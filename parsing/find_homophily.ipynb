{
 "cells": [
  {
   "cell_type": "code",
   "execution_count": 7,
   "metadata": {},
   "outputs": [],
   "source": [
    "# Import NetworkX and key data science libraries\n",
    "import networkx as nx\n",
    "import pandas as pd\n",
    "import numpy as np\n",
    "# import seaborn as sns\n",
    "# sns.set_theme()"
   ]
  },
  {
   "cell_type": "code",
   "execution_count": 8,
   "metadata": {},
   "outputs": [
    {
     "data": {
      "text/html": [
       "<div>\n",
       "<style scoped>\n",
       "    .dataframe tbody tr th:only-of-type {\n",
       "        vertical-align: middle;\n",
       "    }\n",
       "\n",
       "    .dataframe tbody tr th {\n",
       "        vertical-align: top;\n",
       "    }\n",
       "\n",
       "    .dataframe thead th {\n",
       "        text-align: right;\n",
       "    }\n",
       "</style>\n",
       "<table border=\"1\" class=\"dataframe\">\n",
       "  <thead>\n",
       "    <tr style=\"text-align: right;\">\n",
       "      <th></th>\n",
       "      <th>cited_paper_id</th>\n",
       "      <th>citing_paper_id</th>\n",
       "    </tr>\n",
       "  </thead>\n",
       "  <tbody>\n",
       "    <tr>\n",
       "      <th>0</th>\n",
       "      <td>10.1109/EMCSI39492.2022.9889639</td>\n",
       "      <td>10.1007/978-3-030-81645-2_7</td>\n",
       "    </tr>\n",
       "    <tr>\n",
       "      <th>1</th>\n",
       "      <td>10.1109/EMCSI39492.2022.9889639</td>\n",
       "      <td>10.1109/JETCAS.2021.3074608</td>\n",
       "    </tr>\n",
       "    <tr>\n",
       "      <th>2</th>\n",
       "      <td>10.1109/EMCSI39492.2022.9889639</td>\n",
       "      <td>10.1007/978-3-030-61638-0_11</td>\n",
       "    </tr>\n",
       "    <tr>\n",
       "      <th>3</th>\n",
       "      <td>10.1109/iecon43393.2020.9255001</td>\n",
       "      <td>10.1109/JSAC.2019.2904348</td>\n",
       "    </tr>\n",
       "    <tr>\n",
       "      <th>4</th>\n",
       "      <td>10.1109/melecon48756.2020.9140602</td>\n",
       "      <td>10.3390/s20092533</td>\n",
       "    </tr>\n",
       "    <tr>\n",
       "      <th>...</th>\n",
       "      <td>...</td>\n",
       "      <td>...</td>\n",
       "    </tr>\n",
       "    <tr>\n",
       "      <th>10177</th>\n",
       "      <td>10.3390/s21041065</td>\n",
       "      <td>10.1109/TNN.2004.832719</td>\n",
       "    </tr>\n",
       "    <tr>\n",
       "      <th>10178</th>\n",
       "      <td>10.3390/s21041065</td>\n",
       "      <td>10.1016/j.physa.2017.08.053</td>\n",
       "    </tr>\n",
       "    <tr>\n",
       "      <th>10179</th>\n",
       "      <td>10.3390/s21041065</td>\n",
       "      <td>10.1109/TBCAS.2017.2759700</td>\n",
       "    </tr>\n",
       "    <tr>\n",
       "      <th>10180</th>\n",
       "      <td>10.1109/TC.2023.3251841</td>\n",
       "      <td>10.1109/TNN.2004.832719</td>\n",
       "    </tr>\n",
       "    <tr>\n",
       "      <th>10181</th>\n",
       "      <td>10.1109/AICAS54282.2022.9869966</td>\n",
       "      <td>10.1109/MNANO.2022.3141443</td>\n",
       "    </tr>\n",
       "  </tbody>\n",
       "</table>\n",
       "<p>10182 rows × 2 columns</p>\n",
       "</div>"
      ],
      "text/plain": [
       "                          cited_paper_id               citing_paper_id\n",
       "0        10.1109/EMCSI39492.2022.9889639   10.1007/978-3-030-81645-2_7\n",
       "1        10.1109/EMCSI39492.2022.9889639   10.1109/JETCAS.2021.3074608\n",
       "2        10.1109/EMCSI39492.2022.9889639  10.1007/978-3-030-61638-0_11\n",
       "3        10.1109/iecon43393.2020.9255001     10.1109/JSAC.2019.2904348\n",
       "4      10.1109/melecon48756.2020.9140602             10.3390/s20092533\n",
       "...                                  ...                           ...\n",
       "10177                  10.3390/s21041065       10.1109/TNN.2004.832719\n",
       "10178                  10.3390/s21041065   10.1016/j.physa.2017.08.053\n",
       "10179                  10.3390/s21041065    10.1109/TBCAS.2017.2759700\n",
       "10180            10.1109/TC.2023.3251841       10.1109/TNN.2004.832719\n",
       "10181    10.1109/AICAS54282.2022.9869966    10.1109/MNANO.2022.3141443\n",
       "\n",
       "[10182 rows x 2 columns]"
      ]
     },
     "execution_count": 8,
     "metadata": {},
     "output_type": "execute_result"
    }
   ],
   "source": [
    "# Import edge table as normal\n",
    "edges = pd.read_csv(\"wos.cites.csv\")\n",
    "edges"
   ]
  },
  {
   "cell_type": "code",
   "execution_count": 9,
   "metadata": {},
   "outputs": [
    {
     "data": {
      "text/html": [
       "<div>\n",
       "<style scoped>\n",
       "    .dataframe tbody tr th:only-of-type {\n",
       "        vertical-align: middle;\n",
       "    }\n",
       "\n",
       "    .dataframe tbody tr th {\n",
       "        vertical-align: top;\n",
       "    }\n",
       "\n",
       "    .dataframe thead th {\n",
       "        text-align: right;\n",
       "    }\n",
       "</style>\n",
       "<table border=\"1\" class=\"dataframe\">\n",
       "  <thead>\n",
       "    <tr style=\"text-align: right;\">\n",
       "      <th></th>\n",
       "      <th>paper_id</th>\n",
       "      <th>category</th>\n",
       "      <th>year</th>\n",
       "      <th>keywords</th>\n",
       "      <th>cited_by</th>\n",
       "    </tr>\n",
       "  </thead>\n",
       "  <tbody>\n",
       "    <tr>\n",
       "      <th>0</th>\n",
       "      <td>10.1109/EMCSI39492.2022.9889639</td>\n",
       "      <td>EdgeML</td>\n",
       "      <td>2022</td>\n",
       "      <td>learning development represents direction rese...</td>\n",
       "      <td>0</td>\n",
       "    </tr>\n",
       "    <tr>\n",
       "      <th>1</th>\n",
       "      <td>10.1145/3318265.3318288</td>\n",
       "      <td>EdgeML</td>\n",
       "      <td>2019</td>\n",
       "      <td>services learning computing resources performa...</td>\n",
       "      <td>0</td>\n",
       "    </tr>\n",
       "    <tr>\n",
       "      <th>2</th>\n",
       "      <td>10.1109/LCOMM.2020.2996605</td>\n",
       "      <td>EdgeML</td>\n",
       "      <td>2020</td>\n",
       "      <td>important learning data communication importan...</td>\n",
       "      <td>1</td>\n",
       "    </tr>\n",
       "    <tr>\n",
       "      <th>3</th>\n",
       "      <td>10.1109/iecon43393.2020.9255001</td>\n",
       "      <td>EdgeML</td>\n",
       "      <td>2020</td>\n",
       "      <td>learning computing centralized industrial envi...</td>\n",
       "      <td>0</td>\n",
       "    </tr>\n",
       "    <tr>\n",
       "      <th>4</th>\n",
       "      <td>10.1109/JSEN.2019.2936117</td>\n",
       "      <td>EdgeML</td>\n",
       "      <td>2020</td>\n",
       "      <td>learning detection algorithm performance appli...</td>\n",
       "      <td>0</td>\n",
       "    </tr>\n",
       "    <tr>\n",
       "      <th>...</th>\n",
       "      <td>...</td>\n",
       "      <td>...</td>\n",
       "      <td>...</td>\n",
       "      <td>...</td>\n",
       "      <td>...</td>\n",
       "    </tr>\n",
       "    <tr>\n",
       "      <th>4946</th>\n",
       "      <td>10.1109/TCSI.2021.3081150</td>\n",
       "      <td>SpikingNN</td>\n",
       "      <td>2021</td>\n",
       "      <td>synchronization simulation bursting coupling m...</td>\n",
       "      <td>0</td>\n",
       "    </tr>\n",
       "    <tr>\n",
       "      <th>4947</th>\n",
       "      <td>10.3390/s21041065</td>\n",
       "      <td>SpikingNN</td>\n",
       "      <td>2021</td>\n",
       "      <td>classification proposed connectivity approach ...</td>\n",
       "      <td>0</td>\n",
       "    </tr>\n",
       "    <tr>\n",
       "      <th>4948</th>\n",
       "      <td>10.1109/TC.2023.3251841</td>\n",
       "      <td>SpikingNN</td>\n",
       "      <td>2023</td>\n",
       "      <td>formally complex verification based modalities...</td>\n",
       "      <td>0</td>\n",
       "    </tr>\n",
       "    <tr>\n",
       "      <th>4949</th>\n",
       "      <td>10.1109/AICAS54282.2022.9869966</td>\n",
       "      <td>SpikingNN</td>\n",
       "      <td>2022</td>\n",
       "      <td>evaluation implementations learning exceedingl...</td>\n",
       "      <td>0</td>\n",
       "    </tr>\n",
       "    <tr>\n",
       "      <th>4950</th>\n",
       "      <td>10.1007/978-3-319-39552-4_3</td>\n",
       "      <td>SpikingNN</td>\n",
       "      <td>2016</td>\n",
       "      <td>NaN</td>\n",
       "      <td>0</td>\n",
       "    </tr>\n",
       "  </tbody>\n",
       "</table>\n",
       "<p>4951 rows × 5 columns</p>\n",
       "</div>"
      ],
      "text/plain": [
       "                             paper_id   category  year  \\\n",
       "0     10.1109/EMCSI39492.2022.9889639     EdgeML  2022   \n",
       "1             10.1145/3318265.3318288     EdgeML  2019   \n",
       "2          10.1109/LCOMM.2020.2996605     EdgeML  2020   \n",
       "3     10.1109/iecon43393.2020.9255001     EdgeML  2020   \n",
       "4           10.1109/JSEN.2019.2936117     EdgeML  2020   \n",
       "...                               ...        ...   ...   \n",
       "4946        10.1109/TCSI.2021.3081150  SpikingNN  2021   \n",
       "4947                10.3390/s21041065  SpikingNN  2021   \n",
       "4948          10.1109/TC.2023.3251841  SpikingNN  2023   \n",
       "4949  10.1109/AICAS54282.2022.9869966  SpikingNN  2022   \n",
       "4950      10.1007/978-3-319-39552-4_3  SpikingNN  2016   \n",
       "\n",
       "                                               keywords  cited_by  \n",
       "0     learning development represents direction rese...         0  \n",
       "1     services learning computing resources performa...         0  \n",
       "2     important learning data communication importan...         1  \n",
       "3     learning computing centralized industrial envi...         0  \n",
       "4     learning detection algorithm performance appli...         0  \n",
       "...                                                 ...       ...  \n",
       "4946  synchronization simulation bursting coupling m...         0  \n",
       "4947  classification proposed connectivity approach ...         0  \n",
       "4948  formally complex verification based modalities...         0  \n",
       "4949  evaluation implementations learning exceedingl...         0  \n",
       "4950                                                NaN         0  \n",
       "\n",
       "[4951 rows x 5 columns]"
      ]
     },
     "execution_count": 9,
     "metadata": {},
     "output_type": "execute_result"
    }
   ],
   "source": [
    "# Import node table\n",
    "nodes = pd.read_csv(\"wos.complete.csv\")\n",
    "nodes"
   ]
  },
  {
   "cell_type": "code",
   "execution_count": 10,
   "metadata": {},
   "outputs": [
    {
     "name": "stdout",
     "output_type": "stream",
     "text": [
      "Graph with 3255 nodes and 10182 edges\n"
     ]
    }
   ],
   "source": [
    "# Add edges to graph object\n",
    "quakers = nx.from_pandas_edgelist(edges, source=\"cited_paper_id\", target=\"citing_paper_id\")\n",
    "print(quakers)"
   ]
  },
  {
   "cell_type": "code",
   "execution_count": 11,
   "metadata": {},
   "outputs": [],
   "source": [
    "# Add node attributes for gender\n",
    "nx.set_node_attributes(quakers, dict(zip(nodes.paper_id, nodes.category)), 'category')"
   ]
  },
  {
   "cell_type": "code",
   "execution_count": 12,
   "metadata": {},
   "outputs": [],
   "source": [
    "# Calculating Edge Probability"
   ]
  },
  {
   "cell_type": "code",
   "execution_count": 30,
   "metadata": {},
   "outputs": [],
   "source": [
    "def logical_xor(a, b):\n",
    "    return (a and not b) or (not a and b)"
   ]
  },
  {
   "cell_type": "code",
   "execution_count": 13,
   "metadata": {},
   "outputs": [
    {
     "data": {
      "text/plain": [
       "0.2722682286406787"
      ]
     },
     "execution_count": 13,
     "metadata": {},
     "output_type": "execute_result"
    }
   ],
   "source": [
    "# Calculate percentage of EdgeML node in the Quaker graph, using pandas\n",
    "p = nodes.category.value_counts()[\"EdgeML\"]/nodes.category.count()\n",
    "p"
   ]
  },
  {
   "cell_type": "code",
   "execution_count": null,
   "metadata": {},
   "outputs": [],
   "source": [
    "# Theoretically, if the edges were chosen at random, there should be \n",
    "# 2 x (0.2722682286406787) x (1 - 0.2722682286406787) edges\n",
    "# = 0.39627648062 edge probability"
   ]
  },
  {
   "cell_type": "code",
   "execution_count": 31,
   "metadata": {},
   "outputs": [
    {
     "data": {
      "text/plain": [
       "214"
      ]
     },
     "execution_count": 31,
     "metadata": {},
     "output_type": "execute_result"
    }
   ],
   "source": [
    "# Find the total number of mixed edges in the network for EdgeML\n",
    "mixed_edges_edgeML = len([(s,t) for s,t in quakers.edges if \n",
    "                   (quakers.nodes[s]['category'] != quakers.nodes[t]['category'] and \n",
    "                    (logical_xor(quakers.nodes[s]['category'] == \"EdgeML\", quakers.nodes[t]['category'] == \"EdgeML\")))])\n",
    "mixed_edges_edgeML"
   ]
  },
  {
   "cell_type": "code",
   "execution_count": 32,
   "metadata": {},
   "outputs": [
    {
     "data": {
      "text/plain": [
       "0.021017481830681594"
      ]
     },
     "execution_count": 32,
     "metadata": {},
     "output_type": "execute_result"
    }
   ],
   "source": [
    "mixed_edges_edgeML/quakers.number_of_edges()"
   ]
  },
  {
   "cell_type": "code",
   "execution_count": 19,
   "metadata": {},
   "outputs": [
    {
     "data": {
      "text/plain": [
       "0.2603514441526964"
      ]
     },
     "execution_count": 19,
     "metadata": {},
     "output_type": "execute_result"
    }
   ],
   "source": [
    "# Calculate percentage of EdgeML node in the Quaker graph, using pandas\n",
    "p = nodes.category.value_counts()[\"MLAccelerator\"]/nodes.category.count()\n",
    "p"
   ]
  },
  {
   "cell_type": "code",
   "execution_count": null,
   "metadata": {},
   "outputs": [],
   "source": [
    "# Theoretically, if the edges were chosen at random, there should be \n",
    "# 2 x (0.2603514441526964) x (1 - 0.2603514441526964) edges\n",
    "# = 0.38513713936 edge probability"
   ]
  },
  {
   "cell_type": "code",
   "execution_count": 33,
   "metadata": {},
   "outputs": [
    {
     "data": {
      "text/plain": [
       "693"
      ]
     },
     "execution_count": 33,
     "metadata": {},
     "output_type": "execute_result"
    }
   ],
   "source": [
    "# Find the total number of mixed edges in the network for MLAccelerator\n",
    "mixed_edges_MLAccelerator = len([(s,t) for s,t in quakers.edges if \n",
    "                   (quakers.nodes[s]['category'] != quakers.nodes[t]['category'] and \n",
    "                    (logical_xor(quakers.nodes[s]['category'] == \"MLAccelerator\", quakers.nodes[t]['category'] == \"MLAccelerator\")))])\n",
    "mixed_edges_MLAccelerator"
   ]
  },
  {
   "cell_type": "code",
   "execution_count": 36,
   "metadata": {},
   "outputs": [
    {
     "data": {
      "text/plain": [
       "0.0680612846199175"
      ]
     },
     "execution_count": 36,
     "metadata": {},
     "output_type": "execute_result"
    }
   ],
   "source": [
    "mixed_edges_MLAccelerator/quakers.number_of_edges()"
   ]
  },
  {
   "cell_type": "code",
   "execution_count": 21,
   "metadata": {},
   "outputs": [
    {
     "data": {
      "text/plain": [
       "0.25610987679256714"
      ]
     },
     "execution_count": 21,
     "metadata": {},
     "output_type": "execute_result"
    }
   ],
   "source": [
    "# Calculate percentage of Neuromorphic node in the Quaker graph, using pandas\n",
    "p = nodes.category.value_counts()[\"Neuromorphic\"]/nodes.category.count()\n",
    "p"
   ]
  },
  {
   "cell_type": "code",
   "execution_count": null,
   "metadata": {},
   "outputs": [],
   "source": [
    "# Theoretically, if the edges were chosen at random, there should be \n",
    "# 2 x (0.25610987679256714) x (1 - 0.25610987679256714) edges\n",
    "# = 0.3810352156 edge probability between any neuromorphic node and nodes in other categories"
   ]
  },
  {
   "cell_type": "code",
   "execution_count": 35,
   "metadata": {},
   "outputs": [
    {
     "data": {
      "text/plain": [
       "1006"
      ]
     },
     "execution_count": 35,
     "metadata": {},
     "output_type": "execute_result"
    }
   ],
   "source": [
    "# Find the total number of mixed edges in the network for Neuromorphic\n",
    "mixed_edges_Neuromorphic = len([(s,t) for s,t in quakers.edges if \n",
    "                   (quakers.nodes[s]['category'] != quakers.nodes[t]['category'] and \n",
    "                    (logical_xor(quakers.nodes[s]['category'] == \"Neuromorphic\", quakers.nodes[t]['category'] == \"Neuromorphic\")))])\n",
    "mixed_edges_Neuromorphic"
   ]
  },
  {
   "cell_type": "code",
   "execution_count": 28,
   "metadata": {},
   "outputs": [
    {
     "data": {
      "text/plain": [
       "5509"
      ]
     },
     "execution_count": 28,
     "metadata": {},
     "output_type": "execute_result"
    }
   ],
   "source": [
    "# Find the total number of mixed edges in the network for MLAccelerator\n",
    "# mixed_edges_Neuromorphic = len([(s,t) for s,t in quakers.edges if \n",
    "#                    (quakers.nodes[s]['category'] != quakers.nodes[t]['category'] and \n",
    "#                     quakers.nodes[s]['category'] == \"Neuromorphic\" or quakers.nodes[t]['category'] == \"Neuromorphic\")])\n",
    "# mixed_edges_Neuromorphic"
   ]
  },
  {
   "cell_type": "code",
   "execution_count": 37,
   "metadata": {},
   "outputs": [
    {
     "data": {
      "text/plain": [
       "0.09880180711058731"
      ]
     },
     "execution_count": 37,
     "metadata": {},
     "output_type": "execute_result"
    }
   ],
   "source": [
    "mixed_edges_Neuromorphic/quakers.number_of_edges()"
   ]
  },
  {
   "cell_type": "code",
   "execution_count": 38,
   "metadata": {},
   "outputs": [
    {
     "data": {
      "text/plain": [
       "0.21127045041405776"
      ]
     },
     "execution_count": 38,
     "metadata": {},
     "output_type": "execute_result"
    }
   ],
   "source": [
    "# Calculate percentage of SpikingNN node in the Quaker graph, using pandas\n",
    "p = nodes.category.value_counts()[\"SpikingNN\"]/nodes.category.count()\n",
    "p"
   ]
  },
  {
   "cell_type": "code",
   "execution_count": null,
   "metadata": {},
   "outputs": [],
   "source": [
    "# Theoretically, if the edges were chosen at random, there should be \n",
    "# 2 x (0.21127045041405776) x (1 - 0.21127045041405776) edges\n",
    "# = 0.33327049439 edge probability between any spikingNN node and nodes in other categories"
   ]
  },
  {
   "cell_type": "code",
   "execution_count": 39,
   "metadata": {},
   "outputs": [
    {
     "data": {
      "text/plain": [
       "529"
      ]
     },
     "execution_count": 39,
     "metadata": {},
     "output_type": "execute_result"
    }
   ],
   "source": [
    "# Find the total number of mixed edges in the network for SpikingNN\n",
    "mixed_edges_spikingNN = len([(s,t) for s,t in quakers.edges if \n",
    "                   (quakers.nodes[s]['category'] != quakers.nodes[t]['category'] and \n",
    "                    (logical_xor(quakers.nodes[s]['category'] == \"SpikingNN\", quakers.nodes[t]['category'] == \"SpikingNN\")))])\n",
    "mixed_edges_spikingNN"
   ]
  },
  {
   "cell_type": "code",
   "execution_count": 40,
   "metadata": {},
   "outputs": [
    {
     "data": {
      "text/plain": [
       "0.05195442938518955"
      ]
     },
     "execution_count": 40,
     "metadata": {},
     "output_type": "execute_result"
    }
   ],
   "source": [
    "mixed_edges_spikingNN/quakers.number_of_edges()"
   ]
  }
 ],
 "metadata": {
  "kernelspec": {
   "display_name": "Python 3",
   "language": "python",
   "name": "python3"
  },
  "language_info": {
   "codemirror_mode": {
    "name": "ipython",
    "version": 3
   },
   "file_extension": ".py",
   "mimetype": "text/x-python",
   "name": "python",
   "nbconvert_exporter": "python",
   "pygments_lexer": "ipython3",
   "version": "3.10.11"
  }
 },
 "nbformat": 4,
 "nbformat_minor": 2
}
